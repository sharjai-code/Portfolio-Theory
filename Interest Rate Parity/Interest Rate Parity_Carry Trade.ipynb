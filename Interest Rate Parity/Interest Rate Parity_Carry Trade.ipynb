{
 "cells": [
  {
   "cell_type": "markdown",
   "metadata": {},
   "source": [
    "\n",
    "<p>For this assignment, use the included data file, <code>fxdata.xls</code>.</p>\n",
    "<ul>\n",
    "<li>You are given monthly data.</li>\n",
    "<li>The first tab gives one-month risk-free rates for the U.S. and six other countries. Let $R^{f,i}$ denote each currency for $i=1,...,6$.</li>\n",
    "<li>For risk-free rate data, $R^{f,i}_{t,t+1}$, the rate is known and reported in the data at time $t$. Namely, any given date $t$ in the data is reporting both $S^i_t$ and $R^{f,i}_{t,t+1}$.</li>\n",
    "<li>The second tab gives FX rates $S^i_t$ for the six countries in relation to the U.S.</li>\n",
    "<li>For each currency, the FX rate $S^i_t$ indicates how many USD per foreign currency.</li>\n",
    "</ul>\n"
   ]
  },
  {
   "cell_type": "code",
   "execution_count": 1,
   "metadata": {},
   "outputs": [],
   "source": [
    "\n",
    "import pandas as pd\n",
    "import numpy as np\n",
    "import xarray as xr\n",
    "#import statsmodels.api as sm\n",
    "import scipy.stats\n",
    "#!pip install scipy==1.2  --user\n",
    "import statsmodels.api as sm\n",
    "pd.set_option('display.float_format', lambda x: '%.4f' % x)\n",
    "np.set_printoptions(precision=2, suppress=True)\n",
    "\n"
   ]
  },
  {
   "cell_type": "code",
   "execution_count": 2,
   "metadata": {},
   "outputs": [],
   "source": [
    "\n",
    "path = 'fxdata.xls'\n",
    "df_rf = pd.read_excel(path, sheet_name='risk-free').set_index('date')\n",
    "df_FX = pd.read_excel(path, sheet_name='FX').set_index('date')\n",
    "\n"
   ]
  },
  {
   "cell_type": "markdown",
   "metadata": {},
   "source": [
    "\n",
    "<h1 id=\"Problem-1\">Problem 1<a class=\"anchor-link\" href=\"#Problem-1\">¶</a></h1><p>Define the log return of holding the foreign currency using log values of the risk-free rate and log values of the FX rates:</p>\n",
    "$$\n",
    "{\\texttt{r}}^i_{t+1} = \\log R^i_{t+1} = s^i_{t+1} - s^i_t + \\texttt{r}^{f,i}_{t,t+1}.\n",
    "$$<p>Using this, construct the excess log return relative to the USD,</p>\n",
    "$$\n",
    "\\tilde {\\texttt{r}}^i_{t+1} = \\log R^i_{t+1} - \\log R^{f, \\$}_{t, t+1} = s^i_{t+1} - s^i_t + \\texttt{r}^{f,i}_{t,t+1} - \\texttt{r}^{f,\\$}_{t,t+1},\n",
    "$$<p>for each foreign currency, where $s^i_t = \\log S_t^i$ and\n",
    "$\\texttt{r}^{f,i}_{t,t+1} = \\log R^{f,i}_{t,t+1}$. Construct a table with the foreign currencies as the rows and the mean, standard deviation, and Sharpe ratio as the columns. Make sure to annualize them. This table should look like the following:\n",
    "<img alt=\"Problem 1 Table\" src=\"table_p1.png\"/></p>\n"
   ]
  },
  {
   "cell_type": "code",
   "execution_count": 3,
   "metadata": {},
   "outputs": [],
   "source": [
    "\n",
    "df_tilde_r = pd.DataFrame(index=df_FX.index, columns=df_FX.columns)\n",
    "for country in df_FX.columns:\n",
    "    df_tilde_r[country] = (\n",
    "        np.log(df_FX[country])\n",
    "        - np.log(df_FX[country]).shift(1)\n",
    "        + np.log(df_rf[country]).shift(1)\n",
    "        - np.log(df_rf['USD']).shift(1)\n",
    "        )\n",
    "\n"
   ]
  },
  {
   "cell_type": "code",
   "execution_count": 4,
   "metadata": {},
   "outputs": [
    {
     "data": {
      "text/html": [
       "<div>\n",
       "<style scoped>\n",
       "    .dataframe tbody tr th:only-of-type {\n",
       "        vertical-align: middle;\n",
       "    }\n",
       "\n",
       "    .dataframe tbody tr th {\n",
       "        vertical-align: top;\n",
       "    }\n",
       "\n",
       "    .dataframe thead th {\n",
       "        text-align: right;\n",
       "    }\n",
       "</style>\n",
       "<table border=\"1\" class=\"dataframe\">\n",
       "  <thead>\n",
       "    <tr style=\"text-align: right;\">\n",
       "      <th></th>\n",
       "      <th>mean</th>\n",
       "      <th>std</th>\n",
       "      <th>sharpe_ratio</th>\n",
       "    </tr>\n",
       "  </thead>\n",
       "  <tbody>\n",
       "    <tr>\n",
       "      <th>AUD</th>\n",
       "      <td>0.0595</td>\n",
       "      <td>0.1056</td>\n",
       "      <td>0.5630</td>\n",
       "    </tr>\n",
       "    <tr>\n",
       "      <th>CAD</th>\n",
       "      <td>0.0301</td>\n",
       "      <td>0.0668</td>\n",
       "      <td>0.4507</td>\n",
       "    </tr>\n",
       "    <tr>\n",
       "      <th>CHF</th>\n",
       "      <td>0.0116</td>\n",
       "      <td>0.0915</td>\n",
       "      <td>0.1268</td>\n",
       "    </tr>\n",
       "    <tr>\n",
       "      <th>EUR</th>\n",
       "      <td>0.0063</td>\n",
       "      <td>0.0881</td>\n",
       "      <td>0.0714</td>\n",
       "    </tr>\n",
       "    <tr>\n",
       "      <th>GBP</th>\n",
       "      <td>0.0040</td>\n",
       "      <td>0.0760</td>\n",
       "      <td>0.0532</td>\n",
       "    </tr>\n",
       "    <tr>\n",
       "      <th>JPY</th>\n",
       "      <td>-0.0118</td>\n",
       "      <td>0.0828</td>\n",
       "      <td>-0.1425</td>\n",
       "    </tr>\n",
       "  </tbody>\n",
       "</table>\n",
       "</div>"
      ],
      "text/plain": [
       "       mean    std  sharpe_ratio\n",
       "AUD  0.0595 0.1056        0.5630\n",
       "CAD  0.0301 0.0668        0.4507\n",
       "CHF  0.0116 0.0915        0.1268\n",
       "EUR  0.0063 0.0881        0.0714\n",
       "GBP  0.0040 0.0760        0.0532\n",
       "JPY -0.0118 0.0828       -0.1425"
      ]
     },
     "execution_count": 4,
     "metadata": {},
     "output_type": "execute_result"
    }
   ],
   "source": [
    "\n",
    "table_p1 = pd.DataFrame(index=df_FX.columns,\n",
    "    columns=['mean', 'std', 'sharpe_ratio'])\n",
    "\n",
    "table_p1['mean'] = df_tilde_r.mean() * 12\n",
    "table_p1['std'] = df_tilde_r.std() * np.sqrt(12)\n",
    "table_p1['sharpe_ratio'] = table_p1['mean'] / table_p1['std']\n",
    "\n",
    "table_p1\n",
    "\n"
   ]
  },
  {
   "cell_type": "markdown",
   "metadata": {},
   "source": [
    "\n",
    "<h1 id=\"Problem-2\">Problem 2<a class=\"anchor-link\" href=\"#Problem-2\">¶</a></h1><p>Suppose that ${\\texttt{r}}^i_{t+1} \\overset{iid}{\\sim} \n",
    "\\mathcal N(\\mu_i, \\sigma_i^2)$. The cumulative return is just the\n",
    "product of the single-period returns,</p>\n",
    "$$\n",
    "R^i_{t,t+h} = \\prod_{k=1}^h R^i_{t+k}.\n",
    "$$<p>In logs, this is</p>\n",
    "$$\n",
    "{\\texttt{r}}^i_{t,t+h} = \\sum_{k=1}^h \\texttt{r}^i_{t+k}\n",
    "$$<p>Calculate the probability that the return to investing in the foreign currency $i$ is less than the return to investing in the domestic currency (the US riskless security) over the horizon $h$,</p>\n",
    "$$\n",
    "Pr\\left[ R^i_{t,t+h} &lt; R^{f,\\$}_{t,t+h}\\right].\n",
    "$$<p>Do this for each foreign currency and for the horizons $h=1,5,10,15,20$. Report these probabilities in a table with the foreign currencies as the columns and the five different horizons in the rows. For $\\mu_i$ and $\\sigma_i$, use the sample mean and standard deviations.</p>\n",
    "<p><em>Hint:</em> If $X \\sim \\mathcal N(\\mu_x, \\sigma_x^2)$, then</p>\n",
    "$$\n",
    "Pr\\left[x &lt; \\ell\\right] = \\Phi_{\\mathcal N}(L)\n",
    "$$<p>with $L = \\frac{\\ell - \\mu_x}{\\sigma_x}$ and $\\Phi_{\\mathcal N}$ is the standard normal CDF.</p>\n"
   ]
  },
  {
   "cell_type": "markdown",
   "metadata": {},
   "source": [
    "\n",
    "<p><strong>SOLUTION:</strong></p>\n",
    "$$R^i_{t,t+h} &lt; R^{f,\\$}_{t,t+h}$$<p></p>\n",
    "<p>is equivalent to\n",
    "$$ \\sum_{k=1}^h\\tilde{\\texttt{r}}^i_{t+k} &lt; 0.$$</p>\n",
    "<p>The return on the risk-free securities have volatility zero, since \n",
    "$R^{f,\\$}_{t,t+1}$ is known at time $t$. So,</p>\n",
    "$$\n",
    "\\sum_{k=1}^h\\tilde{\\texttt{r}}^i_{t+k} \\sim \\mathcal N(h \\mu_i, h \\sigma_i^2)\n",
    "$$<p>and</p>\n",
    "$$\n",
    "Pr\\left[\\sum_{k=1}^h\\tilde{\\texttt{r}}^i_{t+k} &lt; 0 \\right]\n",
    "= \\Phi_{\\mathcal N}\\left( -\\sqrt{h} \\frac{\\tilde \\mu_i}{\\tilde \\sigma_i}\\right)\n",
    "$$\n"
   ]
  },
  {
   "cell_type": "code",
   "execution_count": 5,
   "metadata": {},
   "outputs": [],
   "source": [
    "\n",
    "table_p2 = pd.DataFrame(columns=df_FX.columns, index=[1,5,10, 15, 20])\n",
    "table_p2.index.name = 'horizon'\n",
    "\n"
   ]
  },
  {
   "cell_type": "code",
   "execution_count": 6,
   "metadata": {},
   "outputs": [],
   "source": [
    "\n",
    "for h in table_p2.index:\n",
    "    row = scipy.stats.norm.cdf(\n",
    "        -np.sqrt(h) * table_p1['mean'] / table_p1['std'])\n",
    "    table_p2.loc[h, :] = row\n",
    "\n"
   ]
  },
  {
   "cell_type": "code",
   "execution_count": 7,
   "metadata": {},
   "outputs": [
    {
     "data": {
      "text/html": [
       "<div>\n",
       "<style scoped>\n",
       "    .dataframe tbody tr th:only-of-type {\n",
       "        vertical-align: middle;\n",
       "    }\n",
       "\n",
       "    .dataframe tbody tr th {\n",
       "        vertical-align: top;\n",
       "    }\n",
       "\n",
       "    .dataframe thead th {\n",
       "        text-align: right;\n",
       "    }\n",
       "</style>\n",
       "<table border=\"1\" class=\"dataframe\">\n",
       "  <thead>\n",
       "    <tr style=\"text-align: right;\">\n",
       "      <th></th>\n",
       "      <th>AUD</th>\n",
       "      <th>CAD</th>\n",
       "      <th>CHF</th>\n",
       "      <th>EUR</th>\n",
       "      <th>GBP</th>\n",
       "      <th>JPY</th>\n",
       "    </tr>\n",
       "    <tr>\n",
       "      <th>horizon</th>\n",
       "      <th></th>\n",
       "      <th></th>\n",
       "      <th></th>\n",
       "      <th></th>\n",
       "      <th></th>\n",
       "      <th></th>\n",
       "    </tr>\n",
       "  </thead>\n",
       "  <tbody>\n",
       "    <tr>\n",
       "      <th>1</th>\n",
       "      <td>0.2867</td>\n",
       "      <td>0.3261</td>\n",
       "      <td>0.4496</td>\n",
       "      <td>0.4715</td>\n",
       "      <td>0.4788</td>\n",
       "      <td>0.5567</td>\n",
       "    </tr>\n",
       "    <tr>\n",
       "      <th>5</th>\n",
       "      <td>0.1040</td>\n",
       "      <td>0.1568</td>\n",
       "      <td>0.3884</td>\n",
       "      <td>0.4366</td>\n",
       "      <td>0.4527</td>\n",
       "      <td>0.6250</td>\n",
       "    </tr>\n",
       "    <tr>\n",
       "      <th>10</th>\n",
       "      <td>0.0375</td>\n",
       "      <td>0.0770</td>\n",
       "      <td>0.3442</td>\n",
       "      <td>0.4107</td>\n",
       "      <td>0.4332</td>\n",
       "      <td>0.6739</td>\n",
       "    </tr>\n",
       "    <tr>\n",
       "      <th>15</th>\n",
       "      <td>0.0146</td>\n",
       "      <td>0.0404</td>\n",
       "      <td>0.3117</td>\n",
       "      <td>0.3910</td>\n",
       "      <td>0.4184</td>\n",
       "      <td>0.7095</td>\n",
       "    </tr>\n",
       "    <tr>\n",
       "      <th>20</th>\n",
       "      <td>0.0059</td>\n",
       "      <td>0.0219</td>\n",
       "      <td>0.2854</td>\n",
       "      <td>0.3747</td>\n",
       "      <td>0.4060</td>\n",
       "      <td>0.7381</td>\n",
       "    </tr>\n",
       "  </tbody>\n",
       "</table>\n",
       "</div>"
      ],
      "text/plain": [
       "           AUD    CAD    CHF    EUR    GBP    JPY\n",
       "horizon                                          \n",
       "1       0.2867 0.3261 0.4496 0.4715 0.4788 0.5567\n",
       "5       0.1040 0.1568 0.3884 0.4366 0.4527 0.6250\n",
       "10      0.0375 0.0770 0.3442 0.4107 0.4332 0.6739\n",
       "15      0.0146 0.0404 0.3117 0.3910 0.4184 0.7095\n",
       "20      0.0059 0.0219 0.2854 0.3747 0.4060 0.7381"
      ]
     },
     "execution_count": 7,
     "metadata": {},
     "output_type": "execute_result"
    }
   ],
   "source": [
    "\n",
    "table_p2\n",
    "\n"
   ]
  },
  {
   "cell_type": "markdown",
   "metadata": {},
   "source": [
    "\n",
    "<h1 id=\"Problem-3\">Problem 3<a class=\"anchor-link\" href=\"#Problem-3\">¶</a></h1><p>Suppose that we want to invest in a combination of these foreign securities and that we want to use mean-variance optimization\n",
    "to construct a $\\tilde {\\text{MV}}$ portfolio. Use the excess log returns $\\tilde {\\texttt{r}}^i_{t+1}$ to construct\n",
    "the tangency portfolio based on these currency trades. Report the weights of the tangency portfolio. (Note: From the point of view of the USD, the six foreign securities are risky assets.)</p>\n"
   ]
  },
  {
   "cell_type": "code",
   "execution_count": 8,
   "metadata": {},
   "outputs": [],
   "source": [
    "\n",
    "def compute_tangency(df_tilde, diagonalize_Sigma=False):\n",
    "    \"\"\"Compute tangency portfolio given a set of excess returns.\n",
    "\n",
    "    Also, for convenience, this returns the associated vector of average\n",
    "    returns and the variance-covariance matrix.\n",
    "\n",
    "    Parameters\n",
    "    ----------\n",
    "    diagonalize_Sigma: bool\n",
    "        When `True`, set the off diagonal elements of the variance-covariance\n",
    "        matrix to zero.\n",
    "    \"\"\"\n",
    "    Sigma = df_tilde.cov()\n",
    "    # N is the number of assets\n",
    "    N = Sigma.shape[0]\n",
    "    Sigma_adj = Sigma.copy()\n",
    "    if diagonalize_Sigma:\n",
    "        Sigma_adj.loc[:,:] = np.diag(np.diag(Sigma_adj))\n",
    "\n",
    "    mu_tilde = df_tilde.mean()\n",
    "    Sigma_inv = np.linalg.inv(Sigma_adj)\n",
    "    weights = Sigma_inv @ mu_tilde / (np.ones(N) @ Sigma_inv @ mu_tilde)\n",
    "    # For convenience, I'll wrap the solution back into a pandas.Series object.\n",
    "    omega_tangency = pd.Series(weights, index=mu_tilde.index)\n",
    "    return omega_tangency, mu_tilde, Sigma\n",
    "\n"
   ]
  },
  {
   "cell_type": "code",
   "execution_count": 9,
   "metadata": {},
   "outputs": [
    {
     "data": {
      "text/plain": [
       "AUD    8.0422\n",
       "CAD    1.2552\n",
       "CHF    6.5749\n",
       "EUR   -9.0334\n",
       "GBP   -3.7651\n",
       "JPY   -2.0739\n",
       "dtype: float64"
      ]
     },
     "execution_count": 9,
     "metadata": {},
     "output_type": "execute_result"
    }
   ],
   "source": [
    "\n",
    "omega_tangency, mu_tilde, Sigma = compute_tangency(df_tilde_r)\n",
    "omega_tangency\n",
    "\n"
   ]
  },
  {
   "cell_type": "markdown",
   "metadata": {},
   "source": [
    "\n",
    "<h1 id=\"Problem-4\">Problem 4<a class=\"anchor-link\" href=\"#Problem-4\">¶</a></h1><p>Now, recompute the tangency portfolio from before. This time, diagonalize the variance-covariance matrix so that the covariances between the risky assets are all zero. Report the new tangency portfolio. How does it change?</p>\n"
   ]
  },
  {
   "cell_type": "code",
   "execution_count": 10,
   "metadata": {},
   "outputs": [
    {
     "data": {
      "text/plain": [
       "AUD    0.4022\n",
       "CAD    0.5092\n",
       "CHF    0.1046\n",
       "EUR    0.0612\n",
       "GBP    0.0528\n",
       "JPY   -0.1299\n",
       "dtype: float64"
      ]
     },
     "execution_count": 10,
     "metadata": {},
     "output_type": "execute_result"
    }
   ],
   "source": [
    "\n",
    "omega_tangency, mu_tilde, Sigma = compute_tangency(df_tilde_r, \n",
    "                                                   diagonalize_Sigma=True)\n",
    "omega_tangency # The positions are much less extreme.\n",
    "\n"
   ]
  },
  {
   "cell_type": "markdown",
   "metadata": {},
   "source": [
    "\n",
    "<h1 id=\"Problem-5\">Problem 5<a class=\"anchor-link\" href=\"#Problem-5\">¶</a></h1><p>For each foreign currency, compute $\\alpha^i$ and $\\beta^i$ for each of the regressions</p>\n",
    "$$\n",
    "s_{t+1}^i - s_t^i = \\alpha^i + \\beta^i \\left(\\texttt{r}_{t,t+1}^{f,\\$}\n",
    " - \\texttt{r}_{t,t+1}^{f,i}\\right) + \\epsilon_{t+1}^i,\n",
    "$$<p>where $\\texttt{r}^{f,i}$ denotes the log risk-free rate of currency $i$\n",
    "and $s^i$ denotes the FX rate for currency $i$. Again, note that both\n",
    "$\\texttt{r}^{f,\\$}_{t,t+1}$ and $s_t$ are determined at time $t$.\n",
    "Make a table with 6 rows. Each row is a different currency. In the columns, report $\\alpha^i$, $\\beta^i$, and the r-squared of the regression. Your results should match the table reported below.</p>\n",
    "<p><img alt=\"Table, Problem 2\" src=\"table_p_1_2.png\"/></p>\n"
   ]
  },
  {
   "cell_type": "code",
   "execution_count": 11,
   "metadata": {},
   "outputs": [
    {
     "data": {
      "text/html": [
       "<div>\n",
       "<style scoped>\n",
       "    .dataframe tbody tr th:only-of-type {\n",
       "        vertical-align: middle;\n",
       "    }\n",
       "\n",
       "    .dataframe tbody tr th {\n",
       "        vertical-align: top;\n",
       "    }\n",
       "\n",
       "    .dataframe thead th {\n",
       "        text-align: right;\n",
       "    }\n",
       "</style>\n",
       "<table border=\"1\" class=\"dataframe\">\n",
       "  <thead>\n",
       "    <tr style=\"text-align: right;\">\n",
       "      <th></th>\n",
       "      <th>const</th>\n",
       "      <th>beta</th>\n",
       "      <th>r_squared</th>\n",
       "    </tr>\n",
       "  </thead>\n",
       "  <tbody>\n",
       "    <tr>\n",
       "      <th>AUD</th>\n",
       "      <td>0.0018</td>\n",
       "      <td>-0.5584</td>\n",
       "      <td>0.0007</td>\n",
       "    </tr>\n",
       "    <tr>\n",
       "      <th>CAD</th>\n",
       "      <td>0.0025</td>\n",
       "      <td>1.1001</td>\n",
       "      <td>0.0016</td>\n",
       "    </tr>\n",
       "    <tr>\n",
       "      <th>CHF</th>\n",
       "      <td>0.0054</td>\n",
       "      <td>-2.4879</td>\n",
       "      <td>0.0134</td>\n",
       "    </tr>\n",
       "    <tr>\n",
       "      <th>EUR</th>\n",
       "      <td>0.0009</td>\n",
       "      <td>-1.8950</td>\n",
       "      <td>0.0077</td>\n",
       "    </tr>\n",
       "    <tr>\n",
       "      <th>GBP</th>\n",
       "      <td>0.0005</td>\n",
       "      <td>1.1953</td>\n",
       "      <td>0.0027</td>\n",
       "    </tr>\n",
       "    <tr>\n",
       "      <th>JPY</th>\n",
       "      <td>0.0022</td>\n",
       "      <td>-0.5440</td>\n",
       "      <td>0.0016</td>\n",
       "    </tr>\n",
       "  </tbody>\n",
       "</table>\n",
       "</div>"
      ],
      "text/plain": [
       "     const    beta r_squared\n",
       "AUD 0.0018 -0.5584    0.0007\n",
       "CAD 0.0025  1.1001    0.0016\n",
       "CHF 0.0054 -2.4879    0.0134\n",
       "EUR 0.0009 -1.8950    0.0077\n",
       "GBP 0.0005  1.1953    0.0027\n",
       "JPY 0.0022 -0.5440    0.0016"
      ]
     },
     "execution_count": 11,
     "metadata": {},
     "output_type": "execute_result"
    }
   ],
   "source": [
    "\n",
    "df_regressions = pd.DataFrame(index=['const', 'x1', 'r_squared'],\n",
    "    columns=df_FX.columns)\n",
    "for country in df_regressions.columns:\n",
    "    lhs = np.log(df_FX[country]) - np.log(df_FX[country]).shift(1)\n",
    "    differential = np.log(df_rf['USD']).shift(1) - np.log(df_rf[country]).shift(1)\n",
    "    rhs = sm.add_constant(differential.values)\n",
    "    res = sm.OLS(lhs, rhs, missing='drop').fit()\n",
    "    df_regressions.loc[['const', 'x1'], country] = res.params\n",
    "    df_regressions.loc[['r_squared'], country] = res.rsquared\n",
    "\n",
    "    last_date = differential.index[-1]\n",
    "    exog = [1, differential[last_date]]\n",
    "df_regressions = df_regressions.rename(index={'x1': 'beta'})\n",
    "\n",
    "df_regressions.T\n",
    "\n"
   ]
  },
  {
   "cell_type": "markdown",
   "metadata": {},
   "source": [
    "\n",
    "<h1 id=\"Problem-6\">Problem 6<a class=\"anchor-link\" href=\"#Problem-6\">¶</a></h1><p>Recall that in the previous homework, we used the estimates from the previous regression to\n",
    "construct a time $t$ forecast of the excess log holding period return on each foreign currency .\n",
    "Specifically, we did this by using the estimated $\\alpha^i$ and $\\beta^i$ to compute</p>\n",
    "$$\n",
    "\\mathbb E_t[\\tilde{\\texttt{r}}^i_{t+1}] = \\alpha^i + (\\beta^i-1)\n",
    "\\left(\\texttt{r}_{t,t+1}^{f,\\$} - \\texttt{r}_{t,t+1}^{f,i}\\right).\n",
    "$$<p>We could use this information to construct a dynamic trading strategy. However,\n",
    "this procudure has a problem that prevents us from evaluating its true \n",
    "usefulness in practice. \n",
    "Namely, the $\\alpha^i$ and $\\beta^i$ used to construct our predictions\n",
    "$ \\mathbb E_t[\\tilde{\\texttt{r}}^i_{t+1}]$\n",
    "are estimated using data from dates later than time $t$.</p>\n",
    "<p>In this exercise, construct the time series for $ \\mathbb E_t[\\tilde{\\texttt{r}}^i_{t+1}]$, this time using estimates $\\alpha^i_t$ and $\\beta^i_t$, where $\\alpha^i_t$ and $\\beta^i_t$ are estimating using data available only up to time $t$. \n",
    "Note that each regression should have, at a minimum, 2 or more data points. Use an expanding window so that, with each time period, the amount of data to feed into the regression increases.</p>\n",
    "<p>For each currency, compute how often $ \\mathbb E_t[\\tilde{\\texttt{r}}^i_{t+1}] &gt; 0$. Report the percentage of times that this is true for each currency.</p>\n"
   ]
  },
  {
   "cell_type": "code",
   "execution_count": 12,
   "metadata": {},
   "outputs": [],
   "source": [
    "\n",
    "regs = xr.DataArray(\n",
    "    dims=('currency', 'params', 'date'),\n",
    "    coords={\n",
    "        'currency': df_FX.columns,\n",
    "        'params': ['const', 'x1'],\n",
    "        'date': df_FX.index\n",
    "    }\n",
    "    )\n",
    "\n",
    "for it, t in enumerate(df_FX.index):\n",
    "    if it < 1:\n",
    "        pass\n",
    "    else:\n",
    "        for icountry, country in enumerate(df_FX.columns):\n",
    "            lhs = np.log(df_FX.loc[:t, country]) - np.log(df_FX.loc[:t, country]).shift(1)\n",
    "            differential = np.log(df_rf.loc[:t, 'USD']).shift(1) - np.log(df_rf.loc[:t, country]).shift(1)\n",
    "            rhs = sm.add_constant(differential.values)\n",
    "            res = sm.OLS(lhs, rhs, missing='drop').fit()\n",
    "            regs.sel(currency=country, date=t)[...] = res.params\n",
    "\n"
   ]
  },
  {
   "cell_type": "code",
   "execution_count": 13,
   "metadata": {},
   "outputs": [],
   "source": [
    "\n",
    "df_differential = -df_rf.loc[:, 'AUD':'JPY'].sub(df_rf.loc[:, 'USD'], axis=0)\n",
    "cond_tilde_r = (regs.sel(params='const').T + \n",
    "                   df_differential * (regs.sel(params='x1') - 1)\n",
    "                  )\n",
    "\n"
   ]
  },
  {
   "cell_type": "code",
   "execution_count": 14,
   "metadata": {},
   "outputs": [],
   "source": [
    "\n",
    "df_cond_tilde_r_back = cond_tilde_r.to_dataframe(name='cee_ret')\n",
    "df_cond_tilde_r_back = df_cond_tilde_r_back['cee_ret'].unstack()\n",
    "\n"
   ]
  },
  {
   "cell_type": "code",
   "execution_count": 15,
   "metadata": {},
   "outputs": [
    {
     "data": {
      "text/html": [
       "<div>\n",
       "<style scoped>\n",
       "    .dataframe tbody tr th:only-of-type {\n",
       "        vertical-align: middle;\n",
       "    }\n",
       "\n",
       "    .dataframe tbody tr th {\n",
       "        vertical-align: top;\n",
       "    }\n",
       "\n",
       "    .dataframe thead th {\n",
       "        text-align: right;\n",
       "    }\n",
       "</style>\n",
       "<table border=\"1\" class=\"dataframe\">\n",
       "  <thead>\n",
       "    <tr style=\"text-align: right;\">\n",
       "      <th>currency</th>\n",
       "      <th>AUD</th>\n",
       "      <th>CAD</th>\n",
       "      <th>CHF</th>\n",
       "      <th>EUR</th>\n",
       "      <th>GBP</th>\n",
       "      <th>JPY</th>\n",
       "    </tr>\n",
       "    <tr>\n",
       "      <th>date</th>\n",
       "      <th></th>\n",
       "      <th></th>\n",
       "      <th></th>\n",
       "      <th></th>\n",
       "      <th></th>\n",
       "      <th></th>\n",
       "    </tr>\n",
       "  </thead>\n",
       "  <tbody>\n",
       "    <tr>\n",
       "      <th>1999-01-01</th>\n",
       "      <td>nan</td>\n",
       "      <td>nan</td>\n",
       "      <td>nan</td>\n",
       "      <td>nan</td>\n",
       "      <td>nan</td>\n",
       "      <td>nan</td>\n",
       "    </tr>\n",
       "    <tr>\n",
       "      <th>1999-02-01</th>\n",
       "      <td>0.0123</td>\n",
       "      <td>0.0145</td>\n",
       "      <td>-0.0327</td>\n",
       "      <td>-0.0356</td>\n",
       "      <td>-0.0127</td>\n",
       "      <td>-0.0332</td>\n",
       "    </tr>\n",
       "    <tr>\n",
       "      <th>1999-03-01</th>\n",
       "      <td>-0.0129</td>\n",
       "      <td>-0.0101</td>\n",
       "      <td>-0.0277</td>\n",
       "      <td>-0.0561</td>\n",
       "      <td>0.0180</td>\n",
       "      <td>-0.0397</td>\n",
       "    </tr>\n",
       "    <tr>\n",
       "      <th>1999-04-01</th>\n",
       "      <td>-0.0006</td>\n",
       "      <td>0.0196</td>\n",
       "      <td>-0.0288</td>\n",
       "      <td>0.0532</td>\n",
       "      <td>-0.0042</td>\n",
       "      <td>0.0005</td>\n",
       "    </tr>\n",
       "    <tr>\n",
       "      <th>1999-05-01</th>\n",
       "      <td>0.0128</td>\n",
       "      <td>0.0206</td>\n",
       "      <td>-0.0430</td>\n",
       "      <td>0.0430</td>\n",
       "      <td>0.0007</td>\n",
       "      <td>-0.0145</td>\n",
       "    </tr>\n",
       "  </tbody>\n",
       "</table>\n",
       "</div>"
      ],
      "text/plain": [
       "currency       AUD     CAD     CHF     EUR     GBP     JPY\n",
       "date                                                      \n",
       "1999-01-01     nan     nan     nan     nan     nan     nan\n",
       "1999-02-01  0.0123  0.0145 -0.0327 -0.0356 -0.0127 -0.0332\n",
       "1999-03-01 -0.0129 -0.0101 -0.0277 -0.0561  0.0180 -0.0397\n",
       "1999-04-01 -0.0006  0.0196 -0.0288  0.0532 -0.0042  0.0005\n",
       "1999-05-01  0.0128  0.0206 -0.0430  0.0430  0.0007 -0.0145"
      ]
     },
     "execution_count": 15,
     "metadata": {},
     "output_type": "execute_result"
    }
   ],
   "source": [
    "\n",
    "df_cond_tilde_r_back.head()\n",
    "\n"
   ]
  },
  {
   "cell_type": "code",
   "execution_count": 16,
   "metadata": {},
   "outputs": [
    {
     "data": {
      "text/plain": [
       "currency\n",
       "AUD   0.7895\n",
       "CAD   0.7018\n",
       "CHF   0.6491\n",
       "EUR   0.6725\n",
       "GBP   0.7135\n",
       "JPY   0.6257\n",
       "dtype: float64"
      ]
     },
     "execution_count": 16,
     "metadata": {},
     "output_type": "execute_result"
    }
   ],
   "source": [
    "\n",
    "(df_cond_tilde_r_back > 0).sum() / len(df_cond_tilde_r_back)\n",
    "\n"
   ]
  },
  {
   "cell_type": "markdown",
   "metadata": {},
   "source": [
    "\n",
    "<h1 id=\"Problem-7\">Problem 7<a class=\"anchor-link\" href=\"#Problem-7\">¶</a></h1><p>We are now ready to incorporate this prediction into a trading strategy\n",
    "that we can properly back-test.\n",
    "In this trading strategy, if $ \\mathbb E_t[\\tilde{\\texttt{r}}^i_{t+1}] &gt; 0$, \n",
    "we invest 100\\% in the foreign currency's riskless asset. \n",
    "Otherwise, we invest wholly in the US riskless asset. \n",
    "Note that returns should be expressed as log returns.</p>\n",
    "<p>Compute the mean, standard deviation, and Sharpe ratio of the log returns to this strategy for each foreign currency. Construct a table with the foreign currencies as the rows and the mean, standard deviation, and Sharpe ratio as the columns.</p>\n"
   ]
  },
  {
   "cell_type": "code",
   "execution_count": 17,
   "metadata": {},
   "outputs": [],
   "source": [
    "\n",
    "cond = df_tilde_r * (df_cond_tilde_r_back > 0)\n",
    "df_dynamic_back = cond.add(np.log(df_rf['USD']), axis=0)\n",
    "\n"
   ]
  },
  {
   "cell_type": "code",
   "execution_count": 18,
   "metadata": {},
   "outputs": [
    {
     "data": {
      "text/html": [
       "<div>\n",
       "<style scoped>\n",
       "    .dataframe tbody tr th:only-of-type {\n",
       "        vertical-align: middle;\n",
       "    }\n",
       "\n",
       "    .dataframe tbody tr th {\n",
       "        vertical-align: top;\n",
       "    }\n",
       "\n",
       "    .dataframe thead th {\n",
       "        text-align: right;\n",
       "    }\n",
       "</style>\n",
       "<table border=\"1\" class=\"dataframe\">\n",
       "  <thead>\n",
       "    <tr style=\"text-align: right;\">\n",
       "      <th></th>\n",
       "      <th>mean</th>\n",
       "      <th>std</th>\n",
       "      <th>sharpe_ratio</th>\n",
       "    </tr>\n",
       "  </thead>\n",
       "  <tbody>\n",
       "    <tr>\n",
       "      <th>AUD</th>\n",
       "      <td>0.1063</td>\n",
       "      <td>0.0944</td>\n",
       "      <td>1.1266</td>\n",
       "    </tr>\n",
       "    <tr>\n",
       "      <th>CAD</th>\n",
       "      <td>0.0610</td>\n",
       "      <td>0.0623</td>\n",
       "      <td>0.9795</td>\n",
       "    </tr>\n",
       "    <tr>\n",
       "      <th>CHF</th>\n",
       "      <td>0.0623</td>\n",
       "      <td>0.0776</td>\n",
       "      <td>0.8027</td>\n",
       "    </tr>\n",
       "    <tr>\n",
       "      <th>EUR</th>\n",
       "      <td>0.0527</td>\n",
       "      <td>0.0747</td>\n",
       "      <td>0.7058</td>\n",
       "    </tr>\n",
       "    <tr>\n",
       "      <th>GBP</th>\n",
       "      <td>0.0395</td>\n",
       "      <td>0.0683</td>\n",
       "      <td>0.5782</td>\n",
       "    </tr>\n",
       "    <tr>\n",
       "      <th>JPY</th>\n",
       "      <td>0.0502</td>\n",
       "      <td>0.0640</td>\n",
       "      <td>0.7847</td>\n",
       "    </tr>\n",
       "  </tbody>\n",
       "</table>\n",
       "</div>"
      ],
      "text/plain": [
       "      mean    std  sharpe_ratio\n",
       "AUD 0.1063 0.0944        1.1266\n",
       "CAD 0.0610 0.0623        0.9795\n",
       "CHF 0.0623 0.0776        0.8027\n",
       "EUR 0.0527 0.0747        0.7058\n",
       "GBP 0.0395 0.0683        0.5782\n",
       "JPY 0.0502 0.0640        0.7847"
      ]
     },
     "execution_count": 18,
     "metadata": {},
     "output_type": "execute_result"
    }
   ],
   "source": [
    "\n",
    "table_p8 = pd.DataFrame(index=df_FX.columns,\n",
    "    columns=['mean', 'std', 'sharpe_ratio'])\n",
    "\n",
    "table_p8['mean'] = df_dynamic_back.mean() * 12\n",
    "table_p8['std'] = df_dynamic_back.std() * np.sqrt(12)\n",
    "table_p8['sharpe_ratio'] = table_p8['mean'] / table_p8['std']\n",
    "\n",
    "table_p8\n",
    "\n"
   ]
  },
  {
   "cell_type": "code",
   "execution_count": null,
   "metadata": {},
   "outputs": [],
   "source": [
    "\n",
    " \n",
    "\n"
   ]
  },
  {
   "cell_type": "code",
   "execution_count": null,
   "metadata": {},
   "outputs": [],
   "source": []
  }
 ],
 "metadata": {
  "kernelspec": {
   "display_name": "Python 3",
   "language": "python",
   "name": "python3"
  },
  "language_info": {
   "codemirror_mode": {
    "name": "ipython",
    "version": 3
   },
   "file_extension": ".py",
   "mimetype": "text/x-python",
   "name": "python",
   "nbconvert_exporter": "python",
   "pygments_lexer": "ipython3",
   "version": "3.6.6"
  }
 },
 "nbformat": 4,
 "nbformat_minor": 1
}
