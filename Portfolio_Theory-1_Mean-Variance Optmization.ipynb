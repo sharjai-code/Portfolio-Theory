{
 "cells": [
  {
   "cell_type": "code",
   "execution_count": 42,
   "metadata": {},
   "outputs": [],
   "source": [
    "import pandas as pd\n",
    "import numpy as np\n",
    "# Set default display precision to 4 decimal places\n",
    "# pd.set_option('precision', 4)\n",
    "pd.set_option('display.float_format', lambda x: '%.4f' % x)\n",
    "\n",
    "\n",
    "# Here, I assume that the data file is in the same directory as the the running\n",
    "# Python interpeter. This often means the same directory as this code file.\n",
    "# Change the path variable below to suit your particular setup.\n",
    "path_to_data_file = 'assetclass_data_monthly_2.xlsx'\n",
    "df = pd.read_excel(path_to_data_file)\n",
    "df = df.set_index('Dates')\n",
    "\n",
    "# Assume that the risk-free rate is 0.01/12 in months without data on Cash's\n",
    "# returns, and that otherwise it equals the Cash return\n",
    "df['rf'] = df['Cash'] #.fillna(0.01/12)\n",
    "rf_mean_annualized = df['rf'].mean() * 12\n",
    "\n",
    "risky_assets = df.columns[0:5]\n",
    "risky_assets = risky_assets#.sort_values()\n",
    "df_tilde = df.loc[:, risky_assets]\n",
    "df_tilde = df_tilde.subtract(df['rf'], axis=0)\n",
    "# Alternative:\n",
    "# df_tilde = df_tilde.apply(lambda x: x - df['rf'])\n",
    "\n",
    "## Problem 1 ##\n",
    "\n",
    "mu_tilde = 12 * df_tilde.mean()\n",
    "sigma = np.sqrt(12) * df_tilde.std()\n",
    "table1 = pd.DataFrame({'Mean':mu_tilde, 'Vol':sigma, 'Sharpe':mu_tilde/sigma})\n"
   ]
  },
  {
   "cell_type": "markdown",
   "metadata": {},
   "source": [
    "## Problem 1 (a) and (b)"
   ]
  },
  {
   "cell_type": "code",
   "execution_count": 43,
   "metadata": {},
   "outputs": [
    {
     "data": {
      "text/html": [
       "<div>\n",
       "<style scoped>\n",
       "    .dataframe tbody tr th:only-of-type {\n",
       "        vertical-align: middle;\n",
       "    }\n",
       "\n",
       "    .dataframe tbody tr th {\n",
       "        vertical-align: top;\n",
       "    }\n",
       "\n",
       "    .dataframe thead th {\n",
       "        text-align: right;\n",
       "    }\n",
       "</style>\n",
       "<table border=\"1\" class=\"dataframe\">\n",
       "  <thead>\n",
       "    <tr style=\"text-align: right;\">\n",
       "      <th></th>\n",
       "      <th>Mean</th>\n",
       "      <th>Vol</th>\n",
       "      <th>Sharpe</th>\n",
       "    </tr>\n",
       "  </thead>\n",
       "  <tbody>\n",
       "    <tr>\n",
       "      <th>Fund A</th>\n",
       "      <td>0.0987</td>\n",
       "      <td>0.1497</td>\n",
       "      <td>0.6593</td>\n",
       "    </tr>\n",
       "    <tr>\n",
       "      <th>Fund B</th>\n",
       "      <td>0.1120</td>\n",
       "      <td>0.1540</td>\n",
       "      <td>0.7270</td>\n",
       "    </tr>\n",
       "    <tr>\n",
       "      <th>Fund C</th>\n",
       "      <td>0.0943</td>\n",
       "      <td>0.1666</td>\n",
       "      <td>0.5659</td>\n",
       "    </tr>\n",
       "    <tr>\n",
       "      <th>Fund D</th>\n",
       "      <td>0.1473</td>\n",
       "      <td>0.1192</td>\n",
       "      <td>1.2354</td>\n",
       "    </tr>\n",
       "    <tr>\n",
       "      <th>Fund E</th>\n",
       "      <td>0.0845</td>\n",
       "      <td>0.0963</td>\n",
       "      <td>0.8781</td>\n",
       "    </tr>\n",
       "  </tbody>\n",
       "</table>\n",
       "</div>"
      ],
      "text/plain": [
       "         Mean    Vol  Sharpe\n",
       "Fund A 0.0987 0.1497  0.6593\n",
       "Fund B 0.1120 0.1540  0.7270\n",
       "Fund C 0.0943 0.1666  0.5659\n",
       "Fund D 0.1473 0.1192  1.2354\n",
       "Fund E 0.0845 0.0963  0.8781"
      ]
     },
     "execution_count": 43,
     "metadata": {},
     "output_type": "execute_result"
    }
   ],
   "source": [
    "table1"
   ]
  },
  {
   "cell_type": "code",
   "execution_count": 44,
   "metadata": {},
   "outputs": [],
   "source": [
    "def compute_tangency(df_tilde, diagonalize_Sigma=False):\n",
    "    \"\"\"Compute tangency portfolio given a set of excess returns.\n",
    "\n",
    "    Also, for convenience, this returns the associated vector of average\n",
    "    returns and the variance-covariance matrix.\n",
    "\n",
    "    Parameters\n",
    "    ----------\n",
    "    diagonalize_Sigma: bool\n",
    "        When `True`, set the off diagonal elements of the variance-covariance\n",
    "        matrix to zero.\n",
    "    \"\"\"\n",
    "    Sigma = df_tilde.cov()\n",
    "    # N is the number of assets\n",
    "    N = Sigma.shape[0]\n",
    "    Sigma_adj = Sigma.copy()\n",
    "    if diagonalize_Sigma:\n",
    "        Sigma_adj.loc[:,:] = np.diag(np.diag(Sigma_adj))\n",
    "\n",
    "    mu_tilde = df_tilde.mean()\n",
    "    Sigma_inv = np.linalg.inv(Sigma_adj)\n",
    "    weights = Sigma_inv @ mu_tilde / (np.ones(N) @ Sigma_inv @ mu_tilde)\n",
    "    # For convenience, I'll wrap the solution back into a pandas.Series object.\n",
    "    omega_tangency = pd.Series(weights, index=mu_tilde.index)\n",
    "    return omega_tangency, mu_tilde, Sigma\n",
    "\n",
    "omega_tangency, mu_tilde, Sigma = compute_tangency(df_tilde)\n",
    "\n"
   ]
  },
  {
   "cell_type": "code",
   "execution_count": 45,
   "metadata": {},
   "outputs": [],
   "source": [
    "def compute_gmv(df_tilde, diagonalize_Sigma=False):\n",
    "    \"\"\"Compute tangency portfolio given a set of excess returns.\n",
    "\n",
    "    Also, for convenience, this returns the associated vector of average\n",
    "    returns and the variance-covariance matrix.\n",
    "\n",
    "    Parameters\n",
    "    ----------\n",
    "    diagonalize_Sigma: bool\n",
    "        When `True`, set the off diagonal elements of the variance-covariance\n",
    "        matrix to zero.\n",
    "    \"\"\"\n",
    "    Sigma = df_tilde.cov()\n",
    "    # N is the number of assets\n",
    "    N = Sigma.shape[0]\n",
    "    Sigma_adj = Sigma.copy()\n",
    "    if diagonalize_Sigma:\n",
    "        Sigma_adj.loc[:,:] = np.diag(np.diag(Sigma_adj))\n",
    "\n",
    "    mu_tilde = df_tilde.mean()\n",
    "    Sigma_inv = np.linalg.inv(Sigma_adj)\n",
    "    weights = Sigma_inv @ np.ones(N) / (np.ones(N) @ Sigma_inv @ np.ones(N).T)\n",
    "    # For convenience, I'll wrap the solution back into a pandas.Series object.\n",
    "    omega_gmv = pd.Series(weights, index=mu_tilde.index)\n",
    "    return omega_gmv, mu_tilde, Sigma\n",
    "\n",
    "omega_gmv, mu_tilde, Sigma = compute_gmv(df_tilde)\n",
    "\n"
   ]
  },
  {
   "cell_type": "code",
   "execution_count": 46,
   "metadata": {},
   "outputs": [
    {
     "data": {
      "text/plain": [
       "array([1., 1., 1., 1., 1., 1., 1., 1., 1., 1.])"
      ]
     },
     "execution_count": 46,
     "metadata": {},
     "output_type": "execute_result"
    }
   ],
   "source": [
    "np.ones(10)"
   ]
  },
  {
   "cell_type": "markdown",
   "metadata": {},
   "source": [
    "## Problem 2 (a)"
   ]
  },
  {
   "cell_type": "code",
   "execution_count": 47,
   "metadata": {},
   "outputs": [
    {
     "data": {
      "text/plain": [
       "Fund A   -0.1102\n",
       "Fund B    0.1164\n",
       "Fund C   -0.0895\n",
       "Fund D    0.5759\n",
       "Fund E    0.5074\n",
       "dtype: float64"
      ]
     },
     "execution_count": 47,
     "metadata": {},
     "output_type": "execute_result"
    }
   ],
   "source": [
    "omega_tangency"
   ]
  },
  {
   "cell_type": "code",
   "execution_count": 48,
   "metadata": {},
   "outputs": [
    {
     "data": {
      "text/plain": [
       "Fund A    0.1698\n",
       "Fund B    0.2167\n",
       "Fund C   -0.2256\n",
       "Fund D    0.2413\n",
       "Fund E    0.5977\n",
       "dtype: float64"
      ]
     },
     "execution_count": 48,
     "metadata": {},
     "output_type": "execute_result"
    }
   ],
   "source": [
    "omega_gmv"
   ]
  },
  {
   "cell_type": "code",
   "execution_count": 49,
   "metadata": {},
   "outputs": [
    {
     "data": {
      "text/html": [
       "<div>\n",
       "<style scoped>\n",
       "    .dataframe tbody tr th:only-of-type {\n",
       "        vertical-align: middle;\n",
       "    }\n",
       "\n",
       "    .dataframe tbody tr th {\n",
       "        vertical-align: top;\n",
       "    }\n",
       "\n",
       "    .dataframe thead th {\n",
       "        text-align: right;\n",
       "    }\n",
       "</style>\n",
       "<table border=\"1\" class=\"dataframe\">\n",
       "  <thead>\n",
       "    <tr style=\"text-align: right;\">\n",
       "      <th></th>\n",
       "      <th>Stat</th>\n",
       "    </tr>\n",
       "  </thead>\n",
       "  <tbody>\n",
       "    <tr>\n",
       "      <th>Fraction in Risky Asset</th>\n",
       "      <td>1.0000</td>\n",
       "    </tr>\n",
       "    <tr>\n",
       "      <th>Mean</th>\n",
       "      <td>0.1215</td>\n",
       "    </tr>\n",
       "    <tr>\n",
       "      <th>Volatlity</th>\n",
       "      <td>0.0745</td>\n",
       "    </tr>\n",
       "    <tr>\n",
       "      <th>Sharpe Ratio</th>\n",
       "      <td>1.6304</td>\n",
       "    </tr>\n",
       "  </tbody>\n",
       "</table>\n",
       "</div>"
      ],
      "text/plain": [
       "                          Stat\n",
       "Fraction in Risky Asset 1.0000\n",
       "Mean                    0.1215\n",
       "Volatlity               0.0745\n",
       "Sharpe Ratio            1.6304"
      ]
     },
     "execution_count": 49,
     "metadata": {},
     "output_type": "execute_result"
    }
   ],
   "source": [
    "portfolio_stats(omega_tangency, mu_tilde, Sigma)"
   ]
  },
  {
   "cell_type": "code",
   "execution_count": 50,
   "metadata": {},
   "outputs": [
    {
     "data": {
      "text/html": [
       "<div>\n",
       "<style scoped>\n",
       "    .dataframe tbody tr th:only-of-type {\n",
       "        vertical-align: middle;\n",
       "    }\n",
       "\n",
       "    .dataframe tbody tr th {\n",
       "        vertical-align: top;\n",
       "    }\n",
       "\n",
       "    .dataframe thead th {\n",
       "        text-align: right;\n",
       "    }\n",
       "</style>\n",
       "<table border=\"1\" class=\"dataframe\">\n",
       "  <thead>\n",
       "    <tr style=\"text-align: right;\">\n",
       "      <th></th>\n",
       "      <th>Stat</th>\n",
       "    </tr>\n",
       "  </thead>\n",
       "  <tbody>\n",
       "    <tr>\n",
       "      <th>Fraction in Risky Asset</th>\n",
       "      <td>1.0000</td>\n",
       "    </tr>\n",
       "    <tr>\n",
       "      <th>Mean</th>\n",
       "      <td>0.1058</td>\n",
       "    </tr>\n",
       "    <tr>\n",
       "      <th>Volatlity</th>\n",
       "      <td>0.0695</td>\n",
       "    </tr>\n",
       "    <tr>\n",
       "      <th>Sharpe Ratio</th>\n",
       "      <td>1.5219</td>\n",
       "    </tr>\n",
       "  </tbody>\n",
       "</table>\n",
       "</div>"
      ],
      "text/plain": [
       "                          Stat\n",
       "Fraction in Risky Asset 1.0000\n",
       "Mean                    0.1058\n",
       "Volatlity               0.0695\n",
       "Sharpe Ratio            1.5219"
      ]
     },
     "execution_count": 50,
     "metadata": {},
     "output_type": "execute_result"
    }
   ],
   "source": [
    "portfolio_stats(omega_gmv, mu_tilde, Sigma)"
   ]
  },
  {
   "cell_type": "code",
   "execution_count": 34,
   "metadata": {},
   "outputs": [
    {
     "data": {
      "text/plain": [
       "pandas.core.series.Series"
      ]
     },
     "execution_count": 34,
     "metadata": {},
     "output_type": "execute_result"
    }
   ],
   "source": [
    "type(omega_tangency)"
   ]
  },
  {
   "cell_type": "code",
   "execution_count": 6,
   "metadata": {},
   "outputs": [
    {
     "ename": "NameError",
     "evalue": "name 'df_tilde2' is not defined",
     "output_type": "error",
     "traceback": [
      "\u001b[1;31m---------------------------------------------------------------------------\u001b[0m",
      "\u001b[1;31mNameError\u001b[0m                                 Traceback (most recent call last)",
      "\u001b[1;32m<ipython-input-6-5a2928c876ed>\u001b[0m in \u001b[0;36m<module>\u001b[1;34m\u001b[0m\n\u001b[1;32m----> 1\u001b[1;33m \u001b[0momega_tangency\u001b[0m\u001b[1;33m,\u001b[0m \u001b[0mmu_tilde\u001b[0m\u001b[1;33m,\u001b[0m \u001b[0mSigma\u001b[0m \u001b[1;33m=\u001b[0m \u001b[0mcompute_tangency\u001b[0m\u001b[1;33m(\u001b[0m\u001b[0mdf_tilde2\u001b[0m\u001b[1;33m)\u001b[0m\u001b[1;33m\u001b[0m\u001b[0m\n\u001b[0m\u001b[0;32m      2\u001b[0m \u001b[0momega_tangency\u001b[0m\u001b[1;33m\u001b[0m\u001b[0m\n",
      "\u001b[1;31mNameError\u001b[0m: name 'df_tilde2' is not defined"
     ]
    }
   ],
   "source": [
    "omega_tangency, mu_tilde, Sigma = compute_tangency(df_tilde2)\n",
    "omega_tangency"
   ]
  },
  {
   "cell_type": "code",
   "execution_count": null,
   "metadata": {},
   "outputs": [],
   "source": []
  },
  {
   "cell_type": "code",
   "execution_count": 54,
   "metadata": {},
   "outputs": [],
   "source": [
    "df_tilde2 = df_tilde.dropna(axis=0)\n"
   ]
  },
  {
   "cell_type": "code",
   "execution_count": 60,
   "metadata": {},
   "outputs": [
    {
     "data": {
      "text/html": [
       "<div>\n",
       "<style scoped>\n",
       "    .dataframe tbody tr th:only-of-type {\n",
       "        vertical-align: middle;\n",
       "    }\n",
       "\n",
       "    .dataframe tbody tr th {\n",
       "        vertical-align: top;\n",
       "    }\n",
       "\n",
       "    .dataframe thead th {\n",
       "        text-align: right;\n",
       "    }\n",
       "</style>\n",
       "<table border=\"1\" class=\"dataframe\">\n",
       "  <thead>\n",
       "    <tr style=\"text-align: right;\">\n",
       "      <th></th>\n",
       "      <th>Domestic Equity</th>\n",
       "      <th>Foreign Equity</th>\n",
       "      <th>Emerging Markets</th>\n",
       "      <th>Private Equity</th>\n",
       "      <th>Absolute Return</th>\n",
       "      <th>High Yield</th>\n",
       "      <th>Commodities</th>\n",
       "      <th>Real Estate</th>\n",
       "      <th>Domestic Bonds</th>\n",
       "      <th>Foreign Bonds</th>\n",
       "      <th>Inflation-Indexed</th>\n",
       "    </tr>\n",
       "    <tr>\n",
       "      <th>Dates</th>\n",
       "      <th></th>\n",
       "      <th></th>\n",
       "      <th></th>\n",
       "      <th></th>\n",
       "      <th></th>\n",
       "      <th></th>\n",
       "      <th></th>\n",
       "      <th></th>\n",
       "      <th></th>\n",
       "      <th></th>\n",
       "      <th></th>\n",
       "    </tr>\n",
       "  </thead>\n",
       "  <tbody>\n",
       "    <tr>\n",
       "      <th>2009-03-31</th>\n",
       "      <td>0.0823</td>\n",
       "      <td>0.0828</td>\n",
       "      <td>0.1675</td>\n",
       "      <td>0.1523</td>\n",
       "      <td>-0.0123</td>\n",
       "      <td>0.0182</td>\n",
       "      <td>0.0439</td>\n",
       "      <td>0.0341</td>\n",
       "      <td>0.0320</td>\n",
       "      <td>0.0464</td>\n",
       "      <td>0.0579</td>\n",
       "    </tr>\n",
       "    <tr>\n",
       "      <th>2009-04-30</th>\n",
       "      <td>0.0988</td>\n",
       "      <td>0.1146</td>\n",
       "      <td>0.1550</td>\n",
       "      <td>0.2296</td>\n",
       "      <td>0.0223</td>\n",
       "      <td>0.1379</td>\n",
       "      <td>-0.0097</td>\n",
       "      <td>0.2956</td>\n",
       "      <td>-0.0280</td>\n",
       "      <td>0.0084</td>\n",
       "      <td>-0.0185</td>\n",
       "    </tr>\n",
       "    <tr>\n",
       "      <th>2009-05-29</th>\n",
       "      <td>0.0589</td>\n",
       "      <td>0.1324</td>\n",
       "      <td>0.1599</td>\n",
       "      <td>0.0544</td>\n",
       "      <td>0.0283</td>\n",
       "      <td>0.0290</td>\n",
       "      <td>0.1971</td>\n",
       "      <td>0.0232</td>\n",
       "      <td>-0.0203</td>\n",
       "      <td>0.0541</td>\n",
       "      <td>0.0205</td>\n",
       "    </tr>\n",
       "    <tr>\n",
       "      <th>2009-06-30</th>\n",
       "      <td>-0.0013</td>\n",
       "      <td>-0.0149</td>\n",
       "      <td>-0.0231</td>\n",
       "      <td>0.0448</td>\n",
       "      <td>-0.0040</td>\n",
       "      <td>0.0328</td>\n",
       "      <td>0.0051</td>\n",
       "      <td>-0.0257</td>\n",
       "      <td>-0.0061</td>\n",
       "      <td>0.0046</td>\n",
       "      <td>0.0014</td>\n",
       "    </tr>\n",
       "    <tr>\n",
       "      <th>2009-07-31</th>\n",
       "      <td>0.0746</td>\n",
       "      <td>0.1004</td>\n",
       "      <td>0.1102</td>\n",
       "      <td>0.1433</td>\n",
       "      <td>0.0154</td>\n",
       "      <td>0.0692</td>\n",
       "      <td>0.0045</td>\n",
       "      <td>0.1058</td>\n",
       "      <td>0.0083</td>\n",
       "      <td>0.0313</td>\n",
       "      <td>0.0009</td>\n",
       "    </tr>\n",
       "  </tbody>\n",
       "</table>\n",
       "</div>"
      ],
      "text/plain": [
       "            Domestic Equity  Foreign Equity  Emerging Markets  Private Equity  \\\n",
       "Dates                                                                           \n",
       "2009-03-31           0.0823          0.0828            0.1675          0.1523   \n",
       "2009-04-30           0.0988          0.1146            0.1550          0.2296   \n",
       "2009-05-29           0.0589          0.1324            0.1599          0.0544   \n",
       "2009-06-30          -0.0013         -0.0149           -0.0231          0.0448   \n",
       "2009-07-31           0.0746          0.1004            0.1102          0.1433   \n",
       "\n",
       "            Absolute Return  High Yield  Commodities  Real Estate  \\\n",
       "Dates                                                               \n",
       "2009-03-31          -0.0123      0.0182       0.0439       0.0341   \n",
       "2009-04-30           0.0223      0.1379      -0.0097       0.2956   \n",
       "2009-05-29           0.0283      0.0290       0.1971       0.0232   \n",
       "2009-06-30          -0.0040      0.0328       0.0051      -0.0257   \n",
       "2009-07-31           0.0154      0.0692       0.0045       0.1058   \n",
       "\n",
       "            Domestic Bonds  Foreign Bonds  Inflation-Indexed  \n",
       "Dates                                                         \n",
       "2009-03-31          0.0320         0.0464             0.0579  \n",
       "2009-04-30         -0.0280         0.0084            -0.0185  \n",
       "2009-05-29         -0.0203         0.0541             0.0205  \n",
       "2009-06-30         -0.0061         0.0046             0.0014  \n",
       "2009-07-31          0.0083         0.0313             0.0009  "
      ]
     },
     "execution_count": 60,
     "metadata": {},
     "output_type": "execute_result"
    }
   ],
   "source": [
    "df_tilde2.head()"
   ]
  },
  {
   "cell_type": "code",
   "execution_count": 126,
   "metadata": {},
   "outputs": [],
   "source": [
    "ll=[]\n",
    "for i in range(0,127):\n",
    "    x = (df_tilde2.iloc[i,:] * omega_tangency).sum()\n",
    "    ll.append(x)"
   ]
  },
  {
   "cell_type": "code",
   "execution_count": 127,
   "metadata": {},
   "outputs": [],
   "source": [
    "df_optional= pd.DataFrame(ll,index=df_tilde2.index)"
   ]
  },
  {
   "cell_type": "code",
   "execution_count": 128,
   "metadata": {},
   "outputs": [
    {
     "data": {
      "text/plain": [
       "0   2.3645\n",
       "dtype: float64"
      ]
     },
     "execution_count": 128,
     "metadata": {},
     "output_type": "execute_result"
    }
   ],
   "source": [
    "c=df_optional.mean()/df_optional.std()\n",
    "c=c*np.sqrt(12)\n",
    "c"
   ]
  },
  {
   "cell_type": "code",
   "execution_count": 124,
   "metadata": {},
   "outputs": [
    {
     "data": {
      "text/plain": [
       "0.06581194533758615"
      ]
     },
     "execution_count": 124,
     "metadata": {},
     "output_type": "execute_result"
    }
   ],
   "source": [
    "0.07527387091111307*0.8743"
   ]
  },
  {
   "cell_type": "code",
   "execution_count": 112,
   "metadata": {},
   "outputs": [
    {
     "data": {
      "text/plain": [
       "0   0.0190\n",
       "dtype: float64"
      ]
     },
     "execution_count": 112,
     "metadata": {},
     "output_type": "execute_result"
    }
   ],
   "source": [
    "0.07527387091111307*c"
   ]
  },
  {
   "cell_type": "code",
   "execution_count": 129,
   "metadata": {},
   "outputs": [
    {
     "name": "stdout",
     "output_type": "stream",
     "text": [
      "Domestic Equity 0   1.2063\n",
      "dtype: float64\n",
      "Foreign Equity 0   0.6185\n",
      "dtype: float64\n",
      "Emerging Markets 0   0.4779\n",
      "dtype: float64\n",
      "Private Equity 0   0.8201\n",
      "dtype: float64\n",
      "Absolute Return 0   0.5251\n",
      "dtype: float64\n",
      "High Yield 0   1.0645\n",
      "dtype: float64\n",
      "Commodities 0   -0.1053\n",
      "dtype: float64\n",
      "Real Estate 0   0.9988\n",
      "dtype: float64\n",
      "Domestic Bonds 0   0.6386\n",
      "dtype: float64\n",
      "Foreign Bonds 0   0.3292\n",
      "dtype: float64\n",
      "Inflation-Indexed 0   0.7423\n",
      "dtype: float64\n"
     ]
    }
   ],
   "source": [
    "for a in df_tilde2.columns:\n",
    "    print(a,df_optional.iloc[:,0].corr(df_tilde[a])*c)"
   ]
  },
  {
   "cell_type": "code",
   "execution_count": 130,
   "metadata": {},
   "outputs": [
    {
     "data": {
      "text/html": [
       "<div>\n",
       "<style scoped>\n",
       "    .dataframe tbody tr th:only-of-type {\n",
       "        vertical-align: middle;\n",
       "    }\n",
       "\n",
       "    .dataframe tbody tr th {\n",
       "        vertical-align: top;\n",
       "    }\n",
       "\n",
       "    .dataframe thead th {\n",
       "        text-align: right;\n",
       "    }\n",
       "</style>\n",
       "<table border=\"1\" class=\"dataframe\">\n",
       "  <thead>\n",
       "    <tr style=\"text-align: right;\">\n",
       "      <th></th>\n",
       "      <th>Mean</th>\n",
       "      <th>Vol</th>\n",
       "      <th>Sharpe</th>\n",
       "    </tr>\n",
       "  </thead>\n",
       "  <tbody>\n",
       "    <tr>\n",
       "      <th>Domestic Equity</th>\n",
       "      <td>0.1563</td>\n",
       "      <td>0.1296</td>\n",
       "      <td>1.2063</td>\n",
       "    </tr>\n",
       "    <tr>\n",
       "      <th>Foreign Equity</th>\n",
       "      <td>0.0975</td>\n",
       "      <td>0.1577</td>\n",
       "      <td>0.6185</td>\n",
       "    </tr>\n",
       "    <tr>\n",
       "      <th>Emerging Markets</th>\n",
       "      <td>0.0964</td>\n",
       "      <td>0.2017</td>\n",
       "      <td>0.4779</td>\n",
       "    </tr>\n",
       "    <tr>\n",
       "      <th>Private Equity</th>\n",
       "      <td>0.1637</td>\n",
       "      <td>0.1996</td>\n",
       "      <td>0.8201</td>\n",
       "    </tr>\n",
       "    <tr>\n",
       "      <th>Absolute Return</th>\n",
       "      <td>0.0232</td>\n",
       "      <td>0.0442</td>\n",
       "      <td>0.5251</td>\n",
       "    </tr>\n",
       "    <tr>\n",
       "      <th>High Yield</th>\n",
       "      <td>0.0882</td>\n",
       "      <td>0.0829</td>\n",
       "      <td>1.0645</td>\n",
       "    </tr>\n",
       "    <tr>\n",
       "      <th>Commodities</th>\n",
       "      <td>-0.0201</td>\n",
       "      <td>0.1909</td>\n",
       "      <td>-0.1053</td>\n",
       "    </tr>\n",
       "    <tr>\n",
       "      <th>Real Estate</th>\n",
       "      <td>0.1748</td>\n",
       "      <td>0.1750</td>\n",
       "      <td>0.9988</td>\n",
       "    </tr>\n",
       "    <tr>\n",
       "      <th>Domestic Bonds</th>\n",
       "      <td>0.0371</td>\n",
       "      <td>0.0581</td>\n",
       "      <td>0.6386</td>\n",
       "    </tr>\n",
       "    <tr>\n",
       "      <th>Foreign Bonds</th>\n",
       "      <td>0.0253</td>\n",
       "      <td>0.0769</td>\n",
       "      <td>0.3292</td>\n",
       "    </tr>\n",
       "    <tr>\n",
       "      <th>Inflation-Indexed</th>\n",
       "      <td>0.0359</td>\n",
       "      <td>0.0483</td>\n",
       "      <td>0.7423</td>\n",
       "    </tr>\n",
       "  </tbody>\n",
       "</table>\n",
       "</div>"
      ],
      "text/plain": [
       "                     Mean    Vol  Sharpe\n",
       "Domestic Equity    0.1563 0.1296  1.2063\n",
       "Foreign Equity     0.0975 0.1577  0.6185\n",
       "Emerging Markets   0.0964 0.2017  0.4779\n",
       "Private Equity     0.1637 0.1996  0.8201\n",
       "Absolute Return    0.0232 0.0442  0.5251\n",
       "High Yield         0.0882 0.0829  1.0645\n",
       "Commodities       -0.0201 0.1909 -0.1053\n",
       "Real Estate        0.1748 0.1750  0.9988\n",
       "Domestic Bonds     0.0371 0.0581  0.6386\n",
       "Foreign Bonds      0.0253 0.0769  0.3292\n",
       "Inflation-Indexed  0.0359 0.0483  0.7423"
      ]
     },
     "execution_count": 130,
     "metadata": {},
     "output_type": "execute_result"
    }
   ],
   "source": [
    "mu_tilde2 = 12 * df_tilde2.mean()\n",
    "sigma2 = np.sqrt(12) * df_tilde2.std()\n",
    "table2 = pd.DataFrame({'Mean':mu_tilde2, 'Vol':sigma2, 'Sharpe':mu_tilde2/sigma2})\n",
    "table2"
   ]
  },
  {
   "cell_type": "code",
   "execution_count": 7,
   "metadata": {},
   "outputs": [],
   "source": [
    "\n",
    "def portfolio_stats(omega, mu_tilde, Sigma, annualize_factor=12):\n",
    "    mean = annualize_factor * mu_tilde @ omega\n",
    "    vol = np.sqrt(annualize_factor) * np.sqrt(omega @ Sigma @ omega)\n",
    "    sharpe_ratio = mean/vol\n",
    "    df_stats = pd.DataFrame([omega.sum(), mean, vol, sharpe_ratio],\n",
    "        index=['Fraction in Risky Asset', 'Mean', 'Volatlity', 'Sharpe Ratio'],\n",
    "        columns=['Stat'])\n",
    "    return df_stats"
   ]
  },
  {
   "cell_type": "markdown",
   "metadata": {},
   "source": [
    "## Problem 2(b)"
   ]
  },
  {
   "cell_type": "code",
   "execution_count": 8,
   "metadata": {},
   "outputs": [
    {
     "data": {
      "text/html": [
       "<div>\n",
       "<style scoped>\n",
       "    .dataframe tbody tr th:only-of-type {\n",
       "        vertical-align: middle;\n",
       "    }\n",
       "\n",
       "    .dataframe tbody tr th {\n",
       "        vertical-align: top;\n",
       "    }\n",
       "\n",
       "    .dataframe thead th {\n",
       "        text-align: right;\n",
       "    }\n",
       "</style>\n",
       "<table border=\"1\" class=\"dataframe\">\n",
       "  <thead>\n",
       "    <tr style=\"text-align: right;\">\n",
       "      <th></th>\n",
       "      <th>Stat</th>\n",
       "    </tr>\n",
       "  </thead>\n",
       "  <tbody>\n",
       "    <tr>\n",
       "      <th>Fraction in Risky Asset</th>\n",
       "      <td>1.0000</td>\n",
       "    </tr>\n",
       "    <tr>\n",
       "      <th>Mean</th>\n",
       "      <td>0.1251</td>\n",
       "    </tr>\n",
       "    <tr>\n",
       "      <th>Volatlity</th>\n",
       "      <td>0.0485</td>\n",
       "    </tr>\n",
       "    <tr>\n",
       "      <th>Sharpe Ratio</th>\n",
       "      <td>2.5799</td>\n",
       "    </tr>\n",
       "  </tbody>\n",
       "</table>\n",
       "</div>"
      ],
      "text/plain": [
       "                          Stat\n",
       "Fraction in Risky Asset 1.0000\n",
       "Mean                    0.1251\n",
       "Volatlity               0.0485\n",
       "Sharpe Ratio            2.5799"
      ]
     },
     "execution_count": 8,
     "metadata": {},
     "output_type": "execute_result"
    }
   ],
   "source": [
    "portfolio_stats(omega_tangency, mu_tilde, Sigma)"
   ]
  },
  {
   "cell_type": "markdown",
   "metadata": {},
   "source": [
    "## Problem 3"
   ]
  },
  {
   "cell_type": "code",
   "execution_count": 8,
   "metadata": {},
   "outputs": [
    {
     "name": "stdout",
     "output_type": "stream",
     "text": [
      "0.005\n",
      "Problem 3 (a)\n",
      "Domestic Equity     -0.0539\n",
      "Foreign Equity      -0.3226\n",
      "Emerging Markets     0.2683\n",
      "Private Equity       0.1263\n",
      "Absolute Return      0.9483\n",
      "High Yield           0.4227\n",
      "Commodities         -0.0908\n",
      "Real Estate         -0.1683\n",
      "Domestic Bonds       0.9813\n",
      "Foreign Bonds       -0.4952\n",
      "Inflation-Indexed   -0.2162\n",
      "dtype: float64\n",
      "Problem 3 (b)\n",
      "                          Stat\n",
      "Fraction in Risky Asset 1.3998\n",
      "Mean                    0.0600\n",
      "Volatlity               0.0522\n",
      "Sharpe Ratio            1.1495\n",
      "Problem 3 (c)\n",
      "Domestic Bonds       0.9813\n",
      "Absolute Return      0.9483\n",
      "High Yield           0.4227\n",
      "Emerging Markets     0.2683\n",
      "Private Equity       0.1263\n",
      "Domestic Equity     -0.0539\n",
      "Commodities         -0.0908\n",
      "Real Estate         -0.1683\n",
      "Inflation-Indexed   -0.2162\n",
      "Foreign Equity      -0.3226\n",
      "Foreign Bonds       -0.4952\n",
      "dtype: float64\n",
      "Problem 3 (d) - No\n"
     ]
    }
   ],
   "source": [
    "\n",
    "\n",
    "## Problem 3 ##\n",
    "\n",
    "# (a) Compute and display the weights of MV portfolios with target returns...\n",
    "\n",
    "def target_mv_portfolio(df_tilde, target_return=0.06, diagonalize_Sigma=False):\n",
    "    \"\"\"Compute MV optimal portfolio, given target return and set of excess returns.\n",
    "\n",
    "    Parameters\n",
    "    ----------\n",
    "    diagonalize_Sigma: bool\n",
    "        When `True`, set the off diagonal elements of the variance-covariance\n",
    "        matrix to zero.\n",
    "    \"\"\"\n",
    "    omega_tangency, mu_tilde, Sigma = compute_tangency(df_tilde, diagonalize_Sigma=diagonalize_Sigma)\n",
    "    Sigma_adj = Sigma.copy()\n",
    "    if diagonalize_Sigma:\n",
    "        Sigma_adj.loc[:,:] = np.diag(np.diag(Sigma_adj))\n",
    "    Sigma_inv = np.linalg.inv(Sigma_adj)\n",
    "    N = Sigma_adj.shape[0]\n",
    "    delta_tilde = ((np.ones(N) @ Sigma_inv @ mu_tilde)/(mu_tilde @ Sigma_inv @ mu_tilde)) * target_return\n",
    "    omega_star = delta_tilde * omega_tangency\n",
    "    print(target_return)\n",
    "    return omega_star\n",
    "\n",
    "omega_star = target_mv_portfolio(df_tilde, target_return=0.005)\n",
    "print(\"Problem 3 (a)\")\n",
    "print(omega_star)\n",
    "\n",
    "# Fraction in risky assets\n",
    "omega_star.sum()\n",
    "\n",
    "# (b) What is the mean, volatility, and Sharpe ratio for $w^p$?\n",
    "print(\"Problem 3 (b)\")\n",
    "print(portfolio_stats(omega_star, mu_tilde, Sigma))\n",
    "\n",
    "\n",
    "# (c) Discuss the allocation. In which asset is the portfolio most long? and short?\n",
    "print(\"Problem 3 (c)\")\n",
    "print(omega_star.sort_values(ascending=False))\n",
    "\n",
    "# (d) Does this line up with which assets have the strongest Sharpe ratios?\n",
    "# See tables. It does not.\n",
    "print(\"Problem 3 (d) - No\")"
   ]
  },
  {
   "cell_type": "markdown",
   "metadata": {},
   "source": [
    "## Problem 4"
   ]
  },
  {
   "cell_type": "code",
   "execution_count": 20,
   "metadata": {},
   "outputs": [
    {
     "name": "stdout",
     "output_type": "stream",
     "text": [
      "0.005\n",
      "Problem 4(a)\n",
      "Domestic Equity    -0.0769\n",
      "Foreign Equity     -0.3220\n",
      "Emerging Markets    0.2659\n",
      "Private Equity      0.1416\n",
      "Absolute Return     1.0144\n",
      "High Yield          0.4211\n",
      "Commodities        -0.1067\n",
      "Real Estate        -0.1879\n",
      "Domestic Bonds      0.8798\n",
      "Foreign Bonds      -0.5324\n",
      "dtype: float64\n",
      "Problem 4(c)\n",
      "                          Stat\n",
      "Fraction in Risky Asset 1.4969\n",
      "Mean                    0.0600\n",
      "Volatlity               0.0527\n",
      "Sharpe Ratio            1.1382\n"
     ]
    }
   ],
   "source": [
    "\n",
    "## Problem 4 ##\n",
    "# (a) Drop the inflation-indexed bonds from your return array, and recompute...\n",
    "\n",
    "risky_assets_p4 = risky_assets.drop('Inflation-Indexed')\n",
    "df_temp = df_tilde[risky_assets_p4]\n",
    "omega_tangency, mu_tilde, Sigma = compute_tangency(df_temp)\n",
    "omega_star = target_mv_portfolio(df_temp, target_return=0.005)\n",
    "print(\"Problem 4(a)\")\n",
    "print(omega_star)\n",
    "\n",
    "# (b) How does the portfolio compare to the allocation above...\n",
    "# See written solutions\n",
    "\n",
    "# (c) Calculate the Sharpe ratio. How much did it change?\n",
    "print(\"Problem 4(c)\")\n",
    "print(portfolio_stats(omega_star, mu_tilde, Sigma))\n",
    "# Sharpe ratio went down as expected, but not by very much.\n"
   ]
  },
  {
   "cell_type": "markdown",
   "metadata": {},
   "source": [
    "## Problem 5 "
   ]
  },
  {
   "cell_type": "code",
   "execution_count": 10,
   "metadata": {},
   "outputs": [
    {
     "name": "stdout",
     "output_type": "stream",
     "text": [
      "0.005\n",
      "Domestic Equity    1.0902\n",
      "Foreign Equity    -0.0017\n",
      "dtype: float64\n",
      "0.005\n"
     ]
    },
    {
     "data": {
      "text/plain": [
       "Domestic Equity   0.4019\n",
       "Foreign Equity    0.5740\n",
       "dtype: float64"
      ]
     },
     "execution_count": 10,
     "metadata": {},
     "output_type": "execute_result"
    }
   ],
   "source": [
    "## Problem 5 ##\n",
    "# (a) Consider an allocation between only domestic and foreign equities.\n",
    "risky_assets_p5 = ['Domestic Equity', 'Foreign Equity']\n",
    "df_temp = df_tilde[risky_assets_p5].copy()\n",
    "omega_star = target_mv_portfolio(df_temp, target_return=0.005)\n",
    "print(omega_star)\n",
    "\n",
    "\n",
    "# (b) ... See PDF\n",
    "# (c) Make an adjustment\n",
    "adjustment = df_temp['Foreign Equity'] + 0.001\n",
    "df_temp['Foreign Equity'] = adjustment\n",
    "omega_star = target_mv_portfolio(df_temp, target_return=0.005)\n",
    "omega_star"
   ]
  },
  {
   "cell_type": "markdown",
   "metadata": {},
   "source": [
    "## Problem 6"
   ]
  },
  {
   "cell_type": "code",
   "execution_count": 11,
   "metadata": {},
   "outputs": [
    {
     "name": "stdout",
     "output_type": "stream",
     "text": [
      "0.005\n",
      "Domestic Equity     0.0784\n",
      "Foreign Equity      0.0580\n",
      "Emerging Markets    0.0699\n",
      "Private Equity      0.0126\n",
      "Absolute Return     0.3583\n",
      "High Yield          0.1195\n",
      "Commodities         0.0049\n",
      "Real Estate         0.0795\n",
      "Domestic Bonds      0.2982\n",
      "Foreign Bonds       0.0783\n",
      "Inflation-Indexed   0.2854\n",
      "dtype: float64\n"
     ]
    },
    {
     "data": {
      "text/html": [
       "<div>\n",
       "<style scoped>\n",
       "    .dataframe tbody tr th:only-of-type {\n",
       "        vertical-align: middle;\n",
       "    }\n",
       "\n",
       "    .dataframe tbody tr th {\n",
       "        vertical-align: top;\n",
       "    }\n",
       "\n",
       "    .dataframe thead th {\n",
       "        text-align: right;\n",
       "    }\n",
       "</style>\n",
       "<table border=\"1\" class=\"dataframe\">\n",
       "  <thead>\n",
       "    <tr style=\"text-align: right;\">\n",
       "      <th></th>\n",
       "      <th>Stat</th>\n",
       "    </tr>\n",
       "  </thead>\n",
       "  <tbody>\n",
       "    <tr>\n",
       "      <th>Fraction in Risky Asset</th>\n",
       "      <td>1.4428</td>\n",
       "    </tr>\n",
       "    <tr>\n",
       "      <th>Mean</th>\n",
       "      <td>0.0600</td>\n",
       "    </tr>\n",
       "    <tr>\n",
       "      <th>Volatlity</th>\n",
       "      <td>0.0873</td>\n",
       "    </tr>\n",
       "    <tr>\n",
       "      <th>Sharpe Ratio</th>\n",
       "      <td>0.6871</td>\n",
       "    </tr>\n",
       "  </tbody>\n",
       "</table>\n",
       "</div>"
      ],
      "text/plain": [
       "                          Stat\n",
       "Fraction in Risky Asset 1.4428\n",
       "Mean                    0.0600\n",
       "Volatlity               0.0873\n",
       "Sharpe Ratio            0.6871"
      ]
     },
     "execution_count": 11,
     "metadata": {},
     "output_type": "execute_result"
    }
   ],
   "source": [
    "## Problem 6 ##\n",
    "omega_tangency, mu_tilde, Sigma = compute_tangency(df_tilde, diagonalize_Sigma=True)\n",
    "omega_star = target_mv_portfolio(df_tilde, target_return=0.005, diagonalize_Sigma=True)\n",
    "print(omega_star)\n",
    "portfolio_stats(omega_star, mu_tilde, Sigma)"
   ]
  },
  {
   "cell_type": "code",
   "execution_count": 19,
   "metadata": {},
   "outputs": [
    {
     "name": "stdout",
     "output_type": "stream",
     "text": [
      "0.005\n",
      "Problem 7 (a)\n",
      "Domestic Equity     -0.0576\n",
      "Foreign Equity      -0.1661\n",
      "Emerging Markets     0.2171\n",
      "Private Equity       0.0351\n",
      "Absolute Return      0.7996\n",
      "High Yield           0.2608\n",
      "Commodities         -0.0551\n",
      "Real Estate         -0.0881\n",
      "Domestic Bonds       0.7260\n",
      "Foreign Bonds       -0.5144\n",
      "Inflation-Indexed   -0.0544\n",
      "dtype: float64\n",
      "Problem 7 (b)\n",
      "in-sample performance for 2000-2016 using weights for period 2000-2016\n",
      "                          Stat\n",
      "Fraction in Risky Asset 1.1029\n",
      "Mean                    0.0600\n",
      "Volatlity               0.0457\n",
      "Sharpe Ratio            1.3141\n",
      "Problem 7 (c)\n",
      "out-of-sample performance for 2017-2019 using weights for period 2000-2016\n",
      "                          Stat\n",
      "Fraction in Risky Asset 1.1029\n",
      "Mean                    0.0204\n",
      "Volatlity               0.0354\n",
      "Sharpe Ratio            0.5761\n",
      "0.005\n",
      "Problem 7 (e)\n",
      "                           Stat\n",
      "Fraction in Risky Asset -1.1493\n",
      "Mean                     0.0600\n",
      "Volatlity                0.0210\n",
      "Sharpe Ratio             2.8526\n",
      "0.005\n",
      "0.005\n"
     ]
    },
    {
     "data": {
      "text/html": [
       "<div>\n",
       "<style scoped>\n",
       "    .dataframe tbody tr th:only-of-type {\n",
       "        vertical-align: middle;\n",
       "    }\n",
       "\n",
       "    .dataframe tbody tr th {\n",
       "        vertical-align: top;\n",
       "    }\n",
       "\n",
       "    .dataframe thead th {\n",
       "        text-align: right;\n",
       "    }\n",
       "</style>\n",
       "<table border=\"1\" class=\"dataframe\">\n",
       "  <thead>\n",
       "    <tr style=\"text-align: right;\">\n",
       "      <th></th>\n",
       "      <th>Mean</th>\n",
       "      <th>Volatlity</th>\n",
       "      <th>Sharpe Ratio</th>\n",
       "    </tr>\n",
       "  </thead>\n",
       "  <tbody>\n",
       "    <tr>\n",
       "      <th>In-Sample: 2000-2016</th>\n",
       "      <td>0.0600</td>\n",
       "      <td>0.0868</td>\n",
       "      <td>0.6916</td>\n",
       "    </tr>\n",
       "    <tr>\n",
       "      <th>Out-of-Sample</th>\n",
       "      <td>0.0487</td>\n",
       "      <td>0.0518</td>\n",
       "      <td>0.9402</td>\n",
       "    </tr>\n",
       "    <tr>\n",
       "      <th>In-Sample: 2017-2019</th>\n",
       "      <td>0.0600</td>\n",
       "      <td>0.0591</td>\n",
       "      <td>1.0150</td>\n",
       "    </tr>\n",
       "  </tbody>\n",
       "</table>\n",
       "</div>"
      ],
      "text/plain": [
       "                       Mean  Volatlity  Sharpe Ratio\n",
       "In-Sample: 2000-2016 0.0600     0.0868        0.6916\n",
       "Out-of-Sample        0.0487     0.0518        0.9402\n",
       "In-Sample: 2017-2019 0.0600     0.0591        1.0150"
      ]
     },
     "execution_count": 19,
     "metadata": {},
     "output_type": "execute_result"
    }
   ],
   "source": [
    "\n",
    "## Problem 7 ##\n",
    "# (a) Using only data through the end of 2016, compute w^p for $\\mu^p = .005$, ...\n",
    "df_temp = df_tilde.loc[:'2016', :]\n",
    "omega_tangency, mu_tilde, Sigma = compute_tangency(df_temp)\n",
    "omega_star = target_mv_portfolio(df_temp, target_return=0.005)\n",
    "print(\"Problem 7 (a)\")\n",
    "print(omega_star)\n",
    "\n",
    "# (b) Calculate the portfolio's Sharpe ratio within that sample...\n",
    "df_stats_in_sample = portfolio_stats(omega_star, mu_tilde, Sigma)\n",
    "print(\"Problem 7 (b)\")\n",
    "print(\"in-sample performance for 2000-2016 using weights for period 2000-2016\")\n",
    "print(df_stats_in_sample)\n",
    "\n",
    "# (c) Calculate the portfolio's Sharpe ratio based on performance in 2017-2019\n",
    "df_temp = df_tilde.loc['2017':, :]\n",
    "omega_tangency, mu_tilde_oos, Sigma_oos = compute_tangency(df_temp)\n",
    "#omega_star = target_mv_portfolio(df_temp, target_return=0.005)\n",
    "#print(omega_star)\n",
    "df_stats_out_of_sample = portfolio_stats(omega_star, mu_tilde_oos, Sigma_oos)\n",
    "print(\"Problem 7 (c)\")\n",
    "print(\"out-of-sample performance for 2017-2019 using weights for period 2000-2016\")\n",
    "print(df_stats_out_of_sample)\n",
    "\n",
    "\n",
    "# (d) How does this out-of-sample Sharpe compare to the 2000-2016 performance\n",
    "# of a portfolio optimized to $\\mu^p$ using 2000-2016 data?\n",
    "\n",
    "# See next question.\n",
    "\n",
    "# (e) How does this out-of-sample Sharpe compare to the 2017-2019 performance...\n",
    "\n",
    "# Peformance In-Sample and Out-of-Sample\n",
    "omega_star_is = target_mv_portfolio(df_temp, target_return=0.005)\n",
    "df_stats_in_sample_17_19 = portfolio_stats(omega_star_is, mu_tilde_oos, Sigma_oos)\n",
    "(pd.DataFrame([\n",
    "    df_stats_in_sample['Stat'],\n",
    "    df_stats_out_of_sample['Stat'],\n",
    "    df_stats_in_sample_17_19['Stat']\n",
    "    ], index=['In-Sample: 2000-2016', 'Out-of-Sample', 'In-Sample: 2017-2019'])\n",
    "    ).drop(columns=['Fraction in Risky Asset'])\n",
    "print(\"Problem 7 (e)\")\n",
    "print(df_stats_in_sample_17_19)\n",
    "# (f)\n",
    "\n",
    "df_temp = df_tilde.loc[:'2016', :]\n",
    "omega_tangency, mu_tilde, Sigma = compute_tangency(df_temp,diagonalize_Sigma=True)\n",
    "omega_star = target_mv_portfolio(df_temp, target_return=0.005, diagonalize_Sigma=True)\n",
    "df_stats_in_sample = portfolio_stats(omega_star, mu_tilde, Sigma)\n",
    "#print(df_stats_in_sample)\n",
    "# Calculate the portfolio's Sharpe ratio based on performance in 2017-2019\n",
    "df_temp = df_tilde.loc['2017':, :]\n",
    "omega_tangency, mu_tilde_oos, Sigma_oos = compute_tangency(df_temp)\n",
    "df_stats_out_of_sample = portfolio_stats(omega_star, mu_tilde_oos, Sigma_oos)\n",
    "\n",
    "# Peformance In-Sample and Out-of-Sample\n",
    "omega_star_is = target_mv_portfolio(df_temp, target_return=0.005, diagonalize_Sigma=True)\n",
    "df_stats_in_sample_17_19 = portfolio_stats(omega_star_is, mu_tilde_oos, Sigma_oos)\n",
    "(pd.DataFrame([\n",
    "    df_stats_in_sample['Stat'],\n",
    "    df_stats_out_of_sample['Stat'],\n",
    "    df_stats_in_sample_17_19['Stat']\n",
    "    ], index=['In-Sample: 2000-2016', 'Out-of-Sample', 'In-Sample: 2017-2019'])\n",
    "    ).drop(columns=['Fraction in Risky Asset'])\n"
   ]
  },
  {
   "cell_type": "code",
   "execution_count": null,
   "metadata": {},
   "outputs": [],
   "source": []
  },
  {
   "cell_type": "code",
   "execution_count": null,
   "metadata": {},
   "outputs": [],
   "source": []
  },
  {
   "cell_type": "code",
   "execution_count": 16,
   "metadata": {},
   "outputs": [
    {
     "name": "stdout",
     "output_type": "stream",
     "text": [
      "0.005\n",
      "                          Stat\n",
      "Fraction in Risky Asset 1.3907\n",
      "Mean                    0.0600\n",
      "Volatlity               0.0868\n",
      "Sharpe Ratio            0.6916\n"
     ]
    }
   ],
   "source": [
    "df_temp = df_tilde.loc[:'2016', :]\n",
    "omega_tangency, mu_tilde, Sigma = compute_tangency(df_temp,diagonalize_Sigma=True)\n",
    "omega_star = target_mv_portfolio(df_temp, target_return=0.005, diagonalize_Sigma=True)\n",
    "df_stats_in_sample = portfolio_stats(omega_star, mu_tilde, Sigma)\n",
    "print(df_stats_in_sample)"
   ]
  },
  {
   "cell_type": "code",
   "execution_count": 17,
   "metadata": {},
   "outputs": [],
   "source": [
    "df_temp = df_tilde.loc['2017':, :]\n",
    "omega_tangency, mu_tilde_oos, Sigma_oos = compute_tangency(df_temp)\n",
    "#omega_star = target_mv_portfolio(df_temp, target_return=0.005)\n",
    "#print(omega_star)\n",
    "df_stats_out_of_sample = portfolio_stats(omega_star, mu_tilde_oos, Sigma_oos)\n"
   ]
  },
  {
   "cell_type": "code",
   "execution_count": 18,
   "metadata": {},
   "outputs": [
    {
     "data": {
      "text/html": [
       "<div>\n",
       "<style scoped>\n",
       "    .dataframe tbody tr th:only-of-type {\n",
       "        vertical-align: middle;\n",
       "    }\n",
       "\n",
       "    .dataframe tbody tr th {\n",
       "        vertical-align: top;\n",
       "    }\n",
       "\n",
       "    .dataframe thead th {\n",
       "        text-align: right;\n",
       "    }\n",
       "</style>\n",
       "<table border=\"1\" class=\"dataframe\">\n",
       "  <thead>\n",
       "    <tr style=\"text-align: right;\">\n",
       "      <th></th>\n",
       "      <th>Stat</th>\n",
       "    </tr>\n",
       "  </thead>\n",
       "  <tbody>\n",
       "    <tr>\n",
       "      <th>Fraction in Risky Asset</th>\n",
       "      <td>1.3907</td>\n",
       "    </tr>\n",
       "    <tr>\n",
       "      <th>Mean</th>\n",
       "      <td>0.0487</td>\n",
       "    </tr>\n",
       "    <tr>\n",
       "      <th>Volatlity</th>\n",
       "      <td>0.0518</td>\n",
       "    </tr>\n",
       "    <tr>\n",
       "      <th>Sharpe Ratio</th>\n",
       "      <td>0.9402</td>\n",
       "    </tr>\n",
       "  </tbody>\n",
       "</table>\n",
       "</div>"
      ],
      "text/plain": [
       "                          Stat\n",
       "Fraction in Risky Asset 1.3907\n",
       "Mean                    0.0487\n",
       "Volatlity               0.0518\n",
       "Sharpe Ratio            0.9402"
      ]
     },
     "execution_count": 18,
     "metadata": {},
     "output_type": "execute_result"
    }
   ],
   "source": [
    "df_stats_out_of_sample"
   ]
  },
  {
   "cell_type": "code",
   "execution_count": null,
   "metadata": {},
   "outputs": [],
   "source": []
  },
  {
   "cell_type": "code",
   "execution_count": null,
   "metadata": {},
   "outputs": [],
   "source": []
  },
  {
   "cell_type": "code",
   "execution_count": null,
   "metadata": {},
   "outputs": [],
   "source": []
  },
  {
   "cell_type": "code",
   "execution_count": 33,
   "metadata": {},
   "outputs": [
    {
     "name": "stdout",
     "output_type": "stream",
     "text": [
      "0.005\n",
      "                          Stat\n",
      "Fraction in Risky Asset 1.3907\n",
      "Mean                    0.0600\n",
      "Volatlity               0.0868\n",
      "Sharpe Ratio            0.6916\n",
      "0.005\n"
     ]
    },
    {
     "data": {
      "text/html": [
       "<div>\n",
       "<style scoped>\n",
       "    .dataframe tbody tr th:only-of-type {\n",
       "        vertical-align: middle;\n",
       "    }\n",
       "\n",
       "    .dataframe tbody tr th {\n",
       "        vertical-align: top;\n",
       "    }\n",
       "\n",
       "    .dataframe thead th {\n",
       "        text-align: right;\n",
       "    }\n",
       "</style>\n",
       "<table border=\"1\" class=\"dataframe\">\n",
       "  <thead>\n",
       "    <tr style=\"text-align: right;\">\n",
       "      <th></th>\n",
       "      <th>Mean</th>\n",
       "      <th>Volatlity</th>\n",
       "      <th>Sharpe Ratio</th>\n",
       "    </tr>\n",
       "  </thead>\n",
       "  <tbody>\n",
       "    <tr>\n",
       "      <th>In-Sample: 2000-2016</th>\n",
       "      <td>0.0600</td>\n",
       "      <td>0.0868</td>\n",
       "      <td>0.6916</td>\n",
       "    </tr>\n",
       "    <tr>\n",
       "      <th>Out-of-Sample</th>\n",
       "      <td>0.0487</td>\n",
       "      <td>0.0518</td>\n",
       "      <td>0.9402</td>\n",
       "    </tr>\n",
       "    <tr>\n",
       "      <th>In-Sample: 2017-2019</th>\n",
       "      <td>0.0600</td>\n",
       "      <td>0.0591</td>\n",
       "      <td>1.0150</td>\n",
       "    </tr>\n",
       "  </tbody>\n",
       "</table>\n",
       "</div>"
      ],
      "text/plain": [
       "                       Mean  Volatlity  Sharpe Ratio\n",
       "In-Sample: 2000-2016 0.0600     0.0868        0.6916\n",
       "Out-of-Sample        0.0487     0.0518        0.9402\n",
       "In-Sample: 2017-2019 0.0600     0.0591        1.0150"
      ]
     },
     "execution_count": 33,
     "metadata": {},
     "output_type": "execute_result"
    }
   ],
   "source": [
    "df_temp = df_tilde.loc[:'2016', :]\n",
    "omega_tangency, mu_tilde, Sigma = compute_tangency(df_temp)\n",
    "omega_star = target_mv_portfolio(df_temp, target_return=0.005, diagonalize_Sigma=True)\n",
    "df_stats_in_sample = portfolio_stats(omega_star, mu_tilde, Sigma)\n",
    "print(df_stats_in_sample)\n",
    "# Calculate the portfolio's Sharpe ratio based on performance in 2017-2019\n",
    "df_temp = df_tilde.loc['2017':, :]\n",
    "omega_tangency, mu_tilde_oos, Sigma_oos = compute_tangency(df_temp)\n",
    "df_stats_out_of_sample = portfolio_stats(omega_star, mu_tilde_oos, Sigma_oos)\n",
    "\n",
    "# Peformance In-Sample and Out-of-Sample\n",
    "omega_star_is = target_mv_portfolio(df_temp, target_return=0.005, diagonalize_Sigma=True)\n",
    "df_stats_in_sample_17_19 = portfolio_stats(omega_star_is, mu_tilde_oos, Sigma_oos)\n",
    "(pd.DataFrame([\n",
    "    df_stats_in_sample['Stat'],\n",
    "    df_stats_out_of_sample['Stat'],\n",
    "    df_stats_in_sample_17_19['Stat']\n",
    "    ], index=['In-Sample: 2000-2016', 'Out-of-Sample', 'In-Sample: 2017-2019'])\n",
    "    ).drop(columns=['Fraction in Risky Asset'])\n"
   ]
  },
  {
   "cell_type": "code",
   "execution_count": 118,
   "metadata": {},
   "outputs": [
    {
     "data": {
      "text/plain": [
       "28.044607324760317"
      ]
     },
     "execution_count": 118,
     "metadata": {},
     "output_type": "execute_result"
    }
   ],
   "source": [
    "import statistics\n",
    "k=[2,3,5,67,8]\n",
    "statistics.stdev(k)"
   ]
  },
  {
   "cell_type": "code",
   "execution_count": 122,
   "metadata": {},
   "outputs": [
    {
     "data": {
      "text/plain": [
       "28.044607324760317"
      ]
     },
     "execution_count": 122,
     "metadata": {},
     "output_type": "execute_result"
    }
   ],
   "source": [
    "k = [1-90,2-90,4-90,66-90,7-90]\n",
    "statistics.stdev(k)"
   ]
  },
  {
   "cell_type": "code",
   "execution_count": null,
   "metadata": {},
   "outputs": [],
   "source": []
  }
 ],
 "metadata": {
  "kernelspec": {
   "display_name": "Python 3",
   "language": "python",
   "name": "python3"
  },
  "language_info": {
   "codemirror_mode": {
    "name": "ipython",
    "version": 3
   },
   "file_extension": ".py",
   "mimetype": "text/x-python",
   "name": "python",
   "nbconvert_exporter": "python",
   "pygments_lexer": "ipython3",
   "version": "3.6.6"
  }
 },
 "nbformat": 4,
 "nbformat_minor": 2
}
