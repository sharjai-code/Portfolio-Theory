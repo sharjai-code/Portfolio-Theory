{
 "cells": [
  {
   "cell_type": "code",
   "execution_count": 1,
   "metadata": {},
   "outputs": [],
   "source": [
    "import numpy as np\n",
    "import pandas as pd\n",
    "import statsmodels.formula.api as smf\n",
    "import statsmodels.api as sm\n",
    "import matplotlib.pyplot as plt\n",
    "import seaborn as sns\n",
    "from dataclasses import dataclass\n",
    "import warnings\n",
    "sns.set()\n",
    "\n",
    "pd.set_option('display.float_format', lambda x: '%.4f' % x)"
   ]
  },
  {
   "cell_type": "code",
   "execution_count": 2,
   "metadata": {},
   "outputs": [],
   "source": [
    "path = 'hedge_fund_replication.xlsx'\n",
    "df_hedge_rep = pd.read_excel(path, sheet_name='HEDGE-REP').set_index('Dates')\n",
    "df_merrill_facs = pd.read_excel(path, sheet_name='MERRILL-FACS').set_index('Dates')\n",
    "df_multi_asset = pd.read_excel(path, sheet_name='MULTI-ASSET').set_index('Dates')\n"
   ]
  },
  {
   "cell_type": "code",
   "execution_count": 4,
   "metadata": {},
   "outputs": [],
   "source": [
    "\n",
    "## Use slighty updated code from previous HW\n",
    "@dataclass\n",
    "class RegressionsOutput:\n",
    "    excess_ret_stats: pd.DataFrame\n",
    "    params: pd.DataFrame\n",
    "    residuals: pd.DataFrame\n",
    "    tstats: pd.DataFrame\n",
    "    other: pd.DataFrame\n",
    "    df: pd.DataFrame\n",
    "\n",
    "def lfm_time_series_regression(df, portfolio_names, factors, annualize_factor=12):\n",
    "    excess_ret_stats = pd.DataFrame(index=factors, columns=['average', 'std'], dtype=float)\n",
    "    for factor in factors:\n",
    "        excess_ret_stats.loc[factor, 'average'] = annualize_factor * df[factor].mean()\n",
    "        excess_ret_stats.loc[factor, 'std'] = np.sqrt(annualize_factor) * df[factor].std()\n",
    "        excess_ret_stats.loc[factor, 'sharpe_ratio'] = \\\n",
    "            excess_ret_stats.loc[factor, 'average'] / excess_ret_stats.loc[factor, 'std']\n",
    "        # Here I'll just report the unscaled skewness\n",
    "        excess_ret_stats.loc[factor, 'skewness'] = df[factor].skew()\n",
    "        # excess_ret_stats.loc[factor, 'skewness'] = annualize_factor * df[factor].skew()\n",
    "\n",
    "    _temp_excess_ret_stats = excess_ret_stats.copy()\n",
    "    _temp_excess_ret_stats.loc['const', :] = 0\n",
    "\n",
    "    with warnings.catch_warnings():\n",
    "        warnings.simplefilter(\"ignore\")\n",
    "        rhs = sm.add_constant(df[factors])\n",
    "    df_params = pd.DataFrame(columns=portfolio_names)\n",
    "    df_other = pd.DataFrame(columns=portfolio_names)\n",
    "    df_residuals = pd.DataFrame(columns=portfolio_names)\n",
    "    df_tstats = pd.DataFrame(columns=portfolio_names)\n",
    "    for portfolio in portfolio_names:\n",
    "        lhs = df[portfolio]\n",
    "        res = sm.OLS(lhs, rhs, missing='drop').fit()\n",
    "        df_params[portfolio] = res.params\n",
    "        df_params.loc['const', portfolio] = annualize_factor * res.params['const']\n",
    "        df_other.loc['r_squared', portfolio] = res.rsquared\n",
    "        df_other.loc['model_implied_excess_ret', portfolio] = df_params[portfolio] @ _temp_excess_ret_stats['average']\n",
    "        df_other.loc['ave_excess_ret', portfolio] = \\\n",
    "            annualize_factor * df[portfolio].mean()\n",
    "        df_other.loc['std_excess_ret', portfolio] = \\\n",
    "            np.sqrt(annualize_factor) * df[portfolio].std()\n",
    "        df_other.loc['skewness_excess_ret', portfolio] = \\\n",
    "            annualize_factor * df[portfolio].skew()\n",
    "        df_other.loc['sharpe_ratio', portfolio] = \\\n",
    "            df_other.loc['ave_excess_ret', portfolio] / df_other.loc['std_excess_ret', portfolio]\n",
    "        df_residuals[portfolio] = res.resid\n",
    "        df_tstats[portfolio] = res.tvalues\n",
    "\n",
    "    regression_outputs = RegressionsOutput(\n",
    "        excess_ret_stats.T,\n",
    "        df_params.T,\n",
    "        df_residuals,\n",
    "        df_tstats.T,\n",
    "        df_other.T,\n",
    "        df)\n",
    "\n",
    "\n",
    "    return regression_outputs\n"
   ]
  },
  {
   "cell_type": "markdown",
   "metadata": {},
   "source": [
    "# Section 2\n",
    "\n",
    "## Problem 1\n",
    "\n",
    "### (a) - (d)"
   ]
  },
  {
   "cell_type": "code",
   "execution_count": 5,
   "metadata": {},
   "outputs": [
    {
     "data": {
      "text/html": [
       "<div>\n",
       "<style scoped>\n",
       "    .dataframe tbody tr th:only-of-type {\n",
       "        vertical-align: middle;\n",
       "    }\n",
       "\n",
       "    .dataframe tbody tr th {\n",
       "        vertical-align: top;\n",
       "    }\n",
       "\n",
       "    .dataframe thead th {\n",
       "        text-align: right;\n",
       "    }\n",
       "</style>\n",
       "<table border=\"1\" class=\"dataframe\">\n",
       "  <thead>\n",
       "    <tr style=\"text-align: right;\">\n",
       "      <th></th>\n",
       "      <th>ave_excess_ret</th>\n",
       "      <th>std_excess_ret</th>\n",
       "      <th>sharpe_ratio</th>\n",
       "      <th>Mkt beta</th>\n",
       "      <th>Mkt Corr</th>\n",
       "    </tr>\n",
       "  </thead>\n",
       "  <tbody>\n",
       "    <tr>\n",
       "      <th>HFRIFWI Index</th>\n",
       "      <td>0.0325</td>\n",
       "      <td>0.0470</td>\n",
       "      <td>0.6920</td>\n",
       "      <td>0.3521</td>\n",
       "      <td>0.8943</td>\n",
       "    </tr>\n",
       "    <tr>\n",
       "      <th>MLEIFCTR Index</th>\n",
       "      <td>0.0300</td>\n",
       "      <td>0.0467</td>\n",
       "      <td>0.6411</td>\n",
       "      <td>0.3631</td>\n",
       "      <td>0.9271</td>\n",
       "    </tr>\n",
       "    <tr>\n",
       "      <th>MLEIFCTX Index</th>\n",
       "      <td>0.0281</td>\n",
       "      <td>0.0467</td>\n",
       "      <td>0.6013</td>\n",
       "      <td>0.3631</td>\n",
       "      <td>0.9272</td>\n",
       "    </tr>\n",
       "    <tr>\n",
       "      <th>HDG US Equity</th>\n",
       "      <td>0.0186</td>\n",
       "      <td>0.0494</td>\n",
       "      <td>0.3762</td>\n",
       "      <td>0.3709</td>\n",
       "      <td>0.8967</td>\n",
       "    </tr>\n",
       "    <tr>\n",
       "      <th>QAI US Equity</th>\n",
       "      <td>0.0213</td>\n",
       "      <td>0.0405</td>\n",
       "      <td>0.5242</td>\n",
       "      <td>0.2808</td>\n",
       "      <td>0.8262</td>\n",
       "    </tr>\n",
       "    <tr>\n",
       "      <th>SPY US Equity</th>\n",
       "      <td>0.1298</td>\n",
       "      <td>0.1193</td>\n",
       "      <td>1.0876</td>\n",
       "      <td>1.0000</td>\n",
       "      <td>1.0000</td>\n",
       "    </tr>\n",
       "  </tbody>\n",
       "</table>\n",
       "</div>"
      ],
      "text/plain": [
       "               ave_excess_ret std_excess_ret sharpe_ratio  Mkt beta  Mkt Corr\n",
       "HFRIFWI Index          0.0325         0.0470       0.6920    0.3521    0.8943\n",
       "MLEIFCTR Index         0.0300         0.0467       0.6411    0.3631    0.9271\n",
       "MLEIFCTX Index         0.0281         0.0467       0.6013    0.3631    0.9272\n",
       "HDG US Equity          0.0186         0.0494       0.3762    0.3709    0.8967\n",
       "QAI US Equity          0.0213         0.0405       0.5242    0.2808    0.8262\n",
       "SPY US Equity          0.1298         0.1193       1.0876    1.0000    1.0000"
      ]
     },
     "execution_count": 5,
     "metadata": {},
     "output_type": "execute_result"
    }
   ],
   "source": [
    "hedge_rep_portfolio_names = ['HFRIFWI Index', 'MLEIFCTR Index',\n",
    "    'MLEIFCTX Index', 'HDG US Equity', 'QAI US Equity', 'SPY US Equity']\n",
    "\n",
    "hedge_rep_regs = lfm_time_series_regression(\n",
    "    df=df_hedge_rep,\n",
    "    portfolio_names=hedge_rep_portfolio_names,\n",
    "    factors=['SPY US Equity']\n",
    "    )\n",
    "\n",
    "# I'm assuming returns are given as excess returns\n",
    "# TODO: Check this.\n",
    "\n",
    "def create_table1(regs_object):\n",
    "    table1 = pd.DataFrame(\n",
    "        regs_object.other[['ave_excess_ret', 'std_excess_ret', 'sharpe_ratio']])\n",
    "    table1['Mkt beta'] = regs_object.params['SPY US Equity']\n",
    "    table1['Mkt Corr'] = regs_object.df.corr()['SPY US Equity']\n",
    "    return table1\n",
    "\n",
    "table1 = create_table1(hedge_rep_regs)\n",
    "table1"
   ]
  },
  {
   "cell_type": "markdown",
   "metadata": {},
   "source": [
    "## Problem 2\n",
    "\n",
    "### (a)  How do the perform since the case in 2013?"
   ]
  },
  {
   "cell_type": "code",
   "execution_count": 6,
   "metadata": {},
   "outputs": [
    {
     "data": {
      "text/html": [
       "<div>\n",
       "<style scoped>\n",
       "    .dataframe tbody tr th:only-of-type {\n",
       "        vertical-align: middle;\n",
       "    }\n",
       "\n",
       "    .dataframe tbody tr th {\n",
       "        vertical-align: top;\n",
       "    }\n",
       "\n",
       "    .dataframe thead th {\n",
       "        text-align: right;\n",
       "    }\n",
       "</style>\n",
       "<table border=\"1\" class=\"dataframe\">\n",
       "  <thead>\n",
       "    <tr style=\"text-align: right;\">\n",
       "      <th></th>\n",
       "      <th>ave_excess_ret</th>\n",
       "      <th>std_excess_ret</th>\n",
       "      <th>sharpe_ratio</th>\n",
       "      <th>Mkt beta</th>\n",
       "      <th>Mkt Corr</th>\n",
       "    </tr>\n",
       "  </thead>\n",
       "  <tbody>\n",
       "    <tr>\n",
       "      <th>HFRIFWI Index</th>\n",
       "      <td>0.0307</td>\n",
       "      <td>0.0426</td>\n",
       "      <td>0.7200</td>\n",
       "      <td>0.3323</td>\n",
       "      <td>0.8981</td>\n",
       "    </tr>\n",
       "    <tr>\n",
       "      <th>MLEIFCTR Index</th>\n",
       "      <td>0.0295</td>\n",
       "      <td>0.0429</td>\n",
       "      <td>0.6891</td>\n",
       "      <td>0.3510</td>\n",
       "      <td>0.9426</td>\n",
       "    </tr>\n",
       "    <tr>\n",
       "      <th>MLEIFCTX Index</th>\n",
       "      <td>0.0275</td>\n",
       "      <td>0.0429</td>\n",
       "      <td>0.6418</td>\n",
       "      <td>0.3512</td>\n",
       "      <td>0.9424</td>\n",
       "    </tr>\n",
       "    <tr>\n",
       "      <th>HDG US Equity</th>\n",
       "      <td>0.0178</td>\n",
       "      <td>0.0432</td>\n",
       "      <td>0.4120</td>\n",
       "      <td>0.3497</td>\n",
       "      <td>0.9327</td>\n",
       "    </tr>\n",
       "    <tr>\n",
       "      <th>QAI US Equity</th>\n",
       "      <td>0.0157</td>\n",
       "      <td>0.0399</td>\n",
       "      <td>0.3940</td>\n",
       "      <td>0.2906</td>\n",
       "      <td>0.8392</td>\n",
       "    </tr>\n",
       "    <tr>\n",
       "      <th>SPY US Equity</th>\n",
       "      <td>0.1092</td>\n",
       "      <td>0.1151</td>\n",
       "      <td>0.9480</td>\n",
       "      <td>1.0000</td>\n",
       "      <td>1.0000</td>\n",
       "    </tr>\n",
       "  </tbody>\n",
       "</table>\n",
       "</div>"
      ],
      "text/plain": [
       "               ave_excess_ret std_excess_ret sharpe_ratio  Mkt beta  Mkt Corr\n",
       "HFRIFWI Index          0.0307         0.0426       0.7200    0.3323    0.8981\n",
       "MLEIFCTR Index         0.0295         0.0429       0.6891    0.3510    0.9426\n",
       "MLEIFCTX Index         0.0275         0.0429       0.6418    0.3512    0.9424\n",
       "HDG US Equity          0.0178         0.0432       0.4120    0.3497    0.9327\n",
       "QAI US Equity          0.0157         0.0399       0.3940    0.2906    0.8392\n",
       "SPY US Equity          0.1092         0.1151       0.9480    1.0000    1.0000"
      ]
     },
     "execution_count": 6,
     "metadata": {},
     "output_type": "execute_result"
    }
   ],
   "source": [
    "hedge_rep_regs_post_2013 = lfm_time_series_regression(\n",
    "    df=df_hedge_rep['2014':], #Include 2014, not 2013\n",
    "    portfolio_names=hedge_rep_portfolio_names,\n",
    "    factors=['SPY US Equity']\n",
    "    )\n",
    "\n",
    "table2 = create_table1(hedge_rep_regs_post_2013)\n",
    "table2"
   ]
  },
  {
   "cell_type": "markdown",
   "metadata": {},
   "source": [
    "### (b) Does HDG outpeform its competitor, QAI?\n",
    "\n",
    "See other written solutions and see figures above.\n",
    "\n",
    "### (c) How do they compare to the S&P 500?\n",
    "\n",
    "See figures above.\n",
    "\n",
    "## Problem 3\n",
    "Report the correlation matrix for these assets based on the full sample..."
   ]
  },
  {
   "cell_type": "code",
   "execution_count": 7,
   "metadata": {},
   "outputs": [
    {
     "data": {
      "text/html": [
       "<div>\n",
       "<style scoped>\n",
       "    .dataframe tbody tr th:only-of-type {\n",
       "        vertical-align: middle;\n",
       "    }\n",
       "\n",
       "    .dataframe tbody tr th {\n",
       "        vertical-align: top;\n",
       "    }\n",
       "\n",
       "    .dataframe thead th {\n",
       "        text-align: right;\n",
       "    }\n",
       "</style>\n",
       "<table border=\"1\" class=\"dataframe\">\n",
       "  <thead>\n",
       "    <tr style=\"text-align: right;\">\n",
       "      <th></th>\n",
       "      <th>HFRIFWI Index</th>\n",
       "      <th>MLEIFCTR Index</th>\n",
       "      <th>MLEIFCTX Index</th>\n",
       "      <th>HDG US Equity</th>\n",
       "      <th>QAI US Equity</th>\n",
       "      <th>SPY US Equity</th>\n",
       "    </tr>\n",
       "  </thead>\n",
       "  <tbody>\n",
       "    <tr>\n",
       "      <th>HFRIFWI Index</th>\n",
       "      <td>1.0000</td>\n",
       "      <td>0.9167</td>\n",
       "      <td>0.9172</td>\n",
       "      <td>0.8868</td>\n",
       "      <td>0.8384</td>\n",
       "      <td>0.8943</td>\n",
       "    </tr>\n",
       "    <tr>\n",
       "      <th>MLEIFCTR Index</th>\n",
       "      <td>0.9167</td>\n",
       "      <td>1.0000</td>\n",
       "      <td>1.0000</td>\n",
       "      <td>0.9785</td>\n",
       "      <td>0.8347</td>\n",
       "      <td>0.9271</td>\n",
       "    </tr>\n",
       "    <tr>\n",
       "      <th>MLEIFCTX Index</th>\n",
       "      <td>0.9172</td>\n",
       "      <td>1.0000</td>\n",
       "      <td>1.0000</td>\n",
       "      <td>0.9785</td>\n",
       "      <td>0.8350</td>\n",
       "      <td>0.9272</td>\n",
       "    </tr>\n",
       "    <tr>\n",
       "      <th>HDG US Equity</th>\n",
       "      <td>0.8868</td>\n",
       "      <td>0.9785</td>\n",
       "      <td>0.9785</td>\n",
       "      <td>1.0000</td>\n",
       "      <td>0.8099</td>\n",
       "      <td>0.8967</td>\n",
       "    </tr>\n",
       "    <tr>\n",
       "      <th>QAI US Equity</th>\n",
       "      <td>0.8384</td>\n",
       "      <td>0.8347</td>\n",
       "      <td>0.8350</td>\n",
       "      <td>0.8099</td>\n",
       "      <td>1.0000</td>\n",
       "      <td>0.8262</td>\n",
       "    </tr>\n",
       "    <tr>\n",
       "      <th>SPY US Equity</th>\n",
       "      <td>0.8943</td>\n",
       "      <td>0.9271</td>\n",
       "      <td>0.9272</td>\n",
       "      <td>0.8967</td>\n",
       "      <td>0.8262</td>\n",
       "      <td>1.0000</td>\n",
       "    </tr>\n",
       "  </tbody>\n",
       "</table>\n",
       "</div>"
      ],
      "text/plain": [
       "                HFRIFWI Index  MLEIFCTR Index  MLEIFCTX Index  HDG US Equity  \\\n",
       "HFRIFWI Index          1.0000          0.9167          0.9172         0.8868   \n",
       "MLEIFCTR Index         0.9167          1.0000          1.0000         0.9785   \n",
       "MLEIFCTX Index         0.9172          1.0000          1.0000         0.9785   \n",
       "HDG US Equity          0.8868          0.9785          0.9785         1.0000   \n",
       "QAI US Equity          0.8384          0.8347          0.8350         0.8099   \n",
       "SPY US Equity          0.8943          0.9271          0.9272         0.8967   \n",
       "\n",
       "                QAI US Equity  SPY US Equity  \n",
       "HFRIFWI Index          0.8384         0.8943  \n",
       "MLEIFCTR Index         0.8347         0.9271  \n",
       "MLEIFCTX Index         0.8350         0.9272  \n",
       "HDG US Equity          0.8099         0.8967  \n",
       "QAI US Equity          1.0000         0.8262  \n",
       "SPY US Equity          0.8262         1.0000  "
      ]
     },
     "execution_count": 7,
     "metadata": {},
     "output_type": "execute_result"
    }
   ],
   "source": [
    "df_hedge_rep.corr()"
   ]
  },
  {
   "cell_type": "code",
   "execution_count": null,
   "metadata": {},
   "outputs": [],
   "source": []
  },
  {
   "cell_type": "markdown",
   "metadata": {},
   "source": [
    "## Problem 4\n",
    "\n",
    "Replicate HFRI with the six factors listed on the \"MERRIL_FACS\" tab. Include..."
   ]
  },
  {
   "cell_type": "code",
   "execution_count": 8,
   "metadata": {},
   "outputs": [],
   "source": [
    "merrill_factors = ['SPY US Equity', 'USGG3M Index', 'EEM US Equity',\n",
    "    'EFA US Equity', 'EUO US Equity', 'IWM US Equity']\n",
    "\n",
    "df_merrill_facs['HFRIFWI Index'] = df_hedge_rep['HFRIFWI Index']\n",
    "prob4_regs = lfm_time_series_regression(\n",
    "    df=df_merrill_facs,\n",
    "    portfolio_names=['HFRIFWI Index'],\n",
    "    factors=merrill_factors\n",
    "    )"
   ]
  },
  {
   "cell_type": "markdown",
   "metadata": {},
   "source": [
    "### (a) Report the intercept and betas."
   ]
  },
  {
   "cell_type": "code",
   "execution_count": 9,
   "metadata": {},
   "outputs": [
    {
     "data": {
      "text/html": [
       "<div>\n",
       "<style scoped>\n",
       "    .dataframe tbody tr th:only-of-type {\n",
       "        vertical-align: middle;\n",
       "    }\n",
       "\n",
       "    .dataframe tbody tr th {\n",
       "        vertical-align: top;\n",
       "    }\n",
       "\n",
       "    .dataframe thead th {\n",
       "        text-align: right;\n",
       "    }\n",
       "</style>\n",
       "<table border=\"1\" class=\"dataframe\">\n",
       "  <thead>\n",
       "    <tr style=\"text-align: right;\">\n",
       "      <th></th>\n",
       "      <th>const</th>\n",
       "      <th>SPY US Equity</th>\n",
       "      <th>USGG3M Index</th>\n",
       "      <th>EEM US Equity</th>\n",
       "      <th>EFA US Equity</th>\n",
       "      <th>EUO US Equity</th>\n",
       "      <th>IWM US Equity</th>\n",
       "    </tr>\n",
       "  </thead>\n",
       "  <tbody>\n",
       "    <tr>\n",
       "      <th>HFRIFWI Index</th>\n",
       "      <td>0.0011</td>\n",
       "      <td>0.1204</td>\n",
       "      <td>0.1407</td>\n",
       "      <td>0.0571</td>\n",
       "      <td>0.1028</td>\n",
       "      <td>0.0206</td>\n",
       "      <td>0.0642</td>\n",
       "    </tr>\n",
       "  </tbody>\n",
       "</table>\n",
       "</div>"
      ],
      "text/plain": [
       "               const  SPY US Equity  USGG3M Index  EEM US Equity  \\\n",
       "HFRIFWI Index 0.0011         0.1204        0.1407         0.0571   \n",
       "\n",
       "               EFA US Equity  EUO US Equity  IWM US Equity  \n",
       "HFRIFWI Index         0.1028         0.0206         0.0642  "
      ]
     },
     "execution_count": 9,
     "metadata": {},
     "output_type": "execute_result"
    }
   ],
   "source": [
    "prob4_regs.params"
   ]
  },
  {
   "cell_type": "markdown",
   "metadata": {},
   "source": [
    "### (b) Are th ebetas realistic position sizes, or do they require ...\n",
    "\n",
    "See other written solutions.\n",
    "\n",
    "### (c) Report the R-squared"
   ]
  },
  {
   "cell_type": "code",
   "execution_count": 10,
   "metadata": {},
   "outputs": [
    {
     "data": {
      "text/html": [
       "<div>\n",
       "<style scoped>\n",
       "    .dataframe tbody tr th:only-of-type {\n",
       "        vertical-align: middle;\n",
       "    }\n",
       "\n",
       "    .dataframe tbody tr th {\n",
       "        vertical-align: top;\n",
       "    }\n",
       "\n",
       "    .dataframe thead th {\n",
       "        text-align: right;\n",
       "    }\n",
       "</style>\n",
       "<table border=\"1\" class=\"dataframe\">\n",
       "  <thead>\n",
       "    <tr style=\"text-align: right;\">\n",
       "      <th></th>\n",
       "      <th>r_squared</th>\n",
       "      <th>model_implied_excess_ret</th>\n",
       "      <th>ave_excess_ret</th>\n",
       "      <th>std_excess_ret</th>\n",
       "      <th>skewness_excess_ret</th>\n",
       "      <th>sharpe_ratio</th>\n",
       "    </tr>\n",
       "  </thead>\n",
       "  <tbody>\n",
       "    <tr>\n",
       "      <th>HFRIFWI Index</th>\n",
       "      <td>0.8721</td>\n",
       "      <td>0.0314</td>\n",
       "      <td>0.0325</td>\n",
       "      <td>0.0470</td>\n",
       "      <td>-7.8743</td>\n",
       "      <td>0.6920</td>\n",
       "    </tr>\n",
       "  </tbody>\n",
       "</table>\n",
       "</div>"
      ],
      "text/plain": [
       "              r_squared model_implied_excess_ret ave_excess_ret  \\\n",
       "HFRIFWI Index    0.8721                   0.0314         0.0325   \n",
       "\n",
       "              std_excess_ret skewness_excess_ret sharpe_ratio  \n",
       "HFRIFWI Index         0.0470             -7.8743       0.6920  "
      ]
     },
     "execution_count": 10,
     "metadata": {},
     "output_type": "execute_result"
    }
   ],
   "source": [
    "prob4_regs.other"
   ]
  },
  {
   "cell_type": "markdown",
   "metadata": {},
   "source": [
    "### (d) Report the volatility of $\\epsilon^{\\text{merr}}$, (the tracking error)."
   ]
  },
  {
   "cell_type": "code",
   "execution_count": 11,
   "metadata": {},
   "outputs": [
    {
     "data": {
      "text/plain": [
       "HFRIFWI Index   0.0168\n",
       "dtype: float64"
      ]
     },
     "execution_count": 11,
     "metadata": {},
     "output_type": "execute_result"
    }
   ],
   "source": [
    "prob4_regs.residuals.std() * np.sqrt(12)"
   ]
  },
  {
   "cell_type": "markdown",
   "metadata": {},
   "source": [
    "## Problem 5\n",
    "\n",
    "Replicate HFRI with the factors listed on the \"MULTI-ASSET\" tab. Include..."
   ]
  },
  {
   "cell_type": "code",
   "execution_count": 11,
   "metadata": {},
   "outputs": [],
   "source": [
    "multi_asset_factors = ['SPY US Equity', 'PSP US Equity', 'HYG US Equity',\n",
    "    'SPGSCITR Index', 'IYR US Equity', 'IEF US Equity', 'BWX US Equity',\n",
    "    'TIP US Equity', 'SHV US Equity']\n",
    "df_multi_asset['HFRIFWI Index'] = df_hedge_rep['HFRIFWI Index']\n",
    "prob5_regs = lfm_time_series_regression(\n",
    "    df=df_multi_asset,\n",
    "    portfolio_names=['HFRIFWI Index'],\n",
    "    factors=multi_asset_factors\n",
    "    )"
   ]
  },
  {
   "cell_type": "markdown",
   "metadata": {},
   "source": [
    "### (a) - (d)"
   ]
  },
  {
   "cell_type": "code",
   "execution_count": 12,
   "metadata": {},
   "outputs": [
    {
     "data": {
      "text/html": [
       "<div>\n",
       "<style scoped>\n",
       "    .dataframe tbody tr th:only-of-type {\n",
       "        vertical-align: middle;\n",
       "    }\n",
       "\n",
       "    .dataframe tbody tr th {\n",
       "        vertical-align: top;\n",
       "    }\n",
       "\n",
       "    .dataframe thead th {\n",
       "        text-align: right;\n",
       "    }\n",
       "</style>\n",
       "<table border=\"1\" class=\"dataframe\">\n",
       "  <thead>\n",
       "    <tr style=\"text-align: right;\">\n",
       "      <th></th>\n",
       "      <th>const</th>\n",
       "      <th>SPY US Equity</th>\n",
       "      <th>PSP US Equity</th>\n",
       "      <th>HYG US Equity</th>\n",
       "      <th>SPGSCITR Index</th>\n",
       "      <th>IYR US Equity</th>\n",
       "      <th>IEF US Equity</th>\n",
       "      <th>BWX US Equity</th>\n",
       "      <th>TIP US Equity</th>\n",
       "      <th>SHV US Equity</th>\n",
       "    </tr>\n",
       "  </thead>\n",
       "  <tbody>\n",
       "    <tr>\n",
       "      <td>HFRIFWI Index</td>\n",
       "      <td>-0.0017</td>\n",
       "      <td>0.1818</td>\n",
       "      <td>0.1665</td>\n",
       "      <td>-0.0903</td>\n",
       "      <td>0.0351</td>\n",
       "      <td>-0.0173</td>\n",
       "      <td>0.0718</td>\n",
       "      <td>-0.0095</td>\n",
       "      <td>0.0829</td>\n",
       "      <td>-0.0082</td>\n",
       "    </tr>\n",
       "  </tbody>\n",
       "</table>\n",
       "</div>"
      ],
      "text/plain": [
       "                const  SPY US Equity  PSP US Equity  HYG US Equity  \\\n",
       "HFRIFWI Index -0.0017         0.1818         0.1665        -0.0903   \n",
       "\n",
       "               SPGSCITR Index  IYR US Equity  IEF US Equity  BWX US Equity  \\\n",
       "HFRIFWI Index          0.0351        -0.0173         0.0718        -0.0095   \n",
       "\n",
       "               TIP US Equity  SHV US Equity  \n",
       "HFRIFWI Index         0.0829        -0.0082  "
      ]
     },
     "execution_count": 12,
     "metadata": {},
     "output_type": "execute_result"
    }
   ],
   "source": [
    "# Report the intercept and betas.\n",
    "prob5_regs.params"
   ]
  },
  {
   "cell_type": "code",
   "execution_count": 13,
   "metadata": {},
   "outputs": [
    {
     "data": {
      "text/html": [
       "<div>\n",
       "<style scoped>\n",
       "    .dataframe tbody tr th:only-of-type {\n",
       "        vertical-align: middle;\n",
       "    }\n",
       "\n",
       "    .dataframe tbody tr th {\n",
       "        vertical-align: top;\n",
       "    }\n",
       "\n",
       "    .dataframe thead th {\n",
       "        text-align: right;\n",
       "    }\n",
       "</style>\n",
       "<table border=\"1\" class=\"dataframe\">\n",
       "  <thead>\n",
       "    <tr style=\"text-align: right;\">\n",
       "      <th></th>\n",
       "      <th>r_squared</th>\n",
       "      <th>model_implied_excess_ret</th>\n",
       "      <th>ave_excess_ret</th>\n",
       "      <th>std_excess_ret</th>\n",
       "      <th>skewness_excess_ret</th>\n",
       "      <th>sharpe_ratio</th>\n",
       "    </tr>\n",
       "  </thead>\n",
       "  <tbody>\n",
       "    <tr>\n",
       "      <td>HFRIFWI Index</td>\n",
       "      <td>0.8990</td>\n",
       "      <td>0.0342</td>\n",
       "      <td>0.0325</td>\n",
       "      <td>0.0470</td>\n",
       "      <td>-7.8743</td>\n",
       "      <td>0.6920</td>\n",
       "    </tr>\n",
       "  </tbody>\n",
       "</table>\n",
       "</div>"
      ],
      "text/plain": [
       "              r_squared model_implied_excess_ret ave_excess_ret  \\\n",
       "HFRIFWI Index    0.8990                   0.0342         0.0325   \n",
       "\n",
       "              std_excess_ret skewness_excess_ret sharpe_ratio  \n",
       "HFRIFWI Index         0.0470             -7.8743       0.6920  "
      ]
     },
     "execution_count": 13,
     "metadata": {},
     "output_type": "execute_result"
    }
   ],
   "source": [
    "# Report the R-squared\n",
    "prob5_regs.other"
   ]
  },
  {
   "cell_type": "code",
   "execution_count": 14,
   "metadata": {},
   "outputs": [
    {
     "data": {
      "text/plain": [
       "HFRIFWI Index   0.0149\n",
       "dtype: float64"
      ]
     },
     "execution_count": 14,
     "metadata": {},
     "output_type": "execute_result"
    }
   ],
   "source": [
    "# Report the volatility of $\\epislon^{\\text{merr}}$, (the tracking error).\n",
    "prob5_regs.residuals.std() * np.sqrt(12)"
   ]
  },
  {
   "cell_type": "markdown",
   "metadata": {},
   "source": [
    "## Problem 6\n",
    "\n",
    "### (a) Which replication is better?\n",
    "\n",
    "See other solutions.\n",
    "\n",
    "### (b) Does either replication do a better job tracking HFRI than HDG?\n",
    "\n",
    "See other solutions.\n",
    "\n",
    "## Problem 7\n",
    "\n",
    "Let's take a serious look at the out-of-sample performace..."
   ]
  },
  {
   "cell_type": "code",
   "execution_count": 15,
   "metadata": {},
   "outputs": [],
   "source": [
    "date_range = df_merrill_facs['01-2015':'09-2019'].index\n",
    "oos_fitted = pd.Series(index=date_range, name='OOS_fit')\n",
    "for date in date_range:\n",
    "    # Note: Altenate code doesn't account for uneven number of days in a month\n",
    "    # date - pd.Timedelta(value=1, unit='M')\n",
    "    date_month_prior = pd.DatetimeIndex([date]).shift(periods=-1, freq='M')[0]\n",
    "    df_subset = df_merrill_facs[:date_month_prior]\n",
    "    with warnings.catch_warnings():\n",
    "        warnings.simplefilter(\"ignore\")\n",
    "        rhs = sm.add_constant(df_subset[merrill_factors])\n",
    "    lhs = df_subset['HFRIFWI Index']\n",
    "    res = sm.OLS(lhs, rhs, drop=\"missing\").fit()\n",
    "    alpha = res.params['const']\n",
    "    beta = res.params.drop(index='const')\n",
    "    x_t = df_merrill_facs.loc[date, merrill_factors]\n",
    "    predicted_next_value = alpha + x_t @ beta\n",
    "    oos_fitted[date] = predicted_next_value\n"
   ]
  },
  {
   "cell_type": "code",
   "execution_count": 16,
   "metadata": {},
   "outputs": [
    {
     "data": {
      "image/png": "[encoded data removed]",
      "text/plain": [
       "<Figure size 432x288 with 1 Axes>"
      ]
     },
     "metadata": {
      "needs_background": "light"
     },
     "output_type": "display_data"
    }
   ],
   "source": [
    "oos_fitted['01-2015':].plot()\n",
    "df_merrill_facs.loc['01-2015':,'HFRIFWI Index'].plot()\n",
    "plt.legend();"
   ]
  },
  {
   "cell_type": "code",
   "execution_count": 17,
   "metadata": {},
   "outputs": [
    {
     "data": {
      "image/png": "[encoded data removed]",
      "text/plain": [
       "<Figure size 432x288 with 1 Axes>"
      ]
     },
     "metadata": {
      "needs_background": "light"
     },
     "output_type": "display_data"
    }
   ],
   "source": [
    "(oos_fitted['01-2015':] + 1).cumprod().plot()\n",
    "(df_merrill_facs.loc['01-2015':,'HFRIFWI Index'] + 1).cumprod().plot()\n",
    "plt.legend();"
   ]
  },
  {
   "cell_type": "code",
   "execution_count": 18,
   "metadata": {},
   "outputs": [
    {
     "data": {
      "text/html": [
       "<div>\n",
       "<style scoped>\n",
       "    .dataframe tbody tr th:only-of-type {\n",
       "        vertical-align: middle;\n",
       "    }\n",
       "\n",
       "    .dataframe tbody tr th {\n",
       "        vertical-align: top;\n",
       "    }\n",
       "\n",
       "    .dataframe thead th {\n",
       "        text-align: right;\n",
       "    }\n",
       "</style>\n",
       "<table border=\"1\" class=\"dataframe\">\n",
       "  <thead>\n",
       "    <tr style=\"text-align: right;\">\n",
       "      <th></th>\n",
       "      <th>OOS_fit</th>\n",
       "      <th>HFRIFWI Index</th>\n",
       "    </tr>\n",
       "  </thead>\n",
       "  <tbody>\n",
       "    <tr>\n",
       "      <td>OOS_fit</td>\n",
       "      <td>1.0000</td>\n",
       "      <td>0.9306</td>\n",
       "    </tr>\n",
       "    <tr>\n",
       "      <td>HFRIFWI Index</td>\n",
       "      <td>0.9306</td>\n",
       "      <td>1.0000</td>\n",
       "    </tr>\n",
       "  </tbody>\n",
       "</table>\n",
       "</div>"
      ],
      "text/plain": [
       "               OOS_fit  HFRIFWI Index\n",
       "OOS_fit         1.0000         0.9306\n",
       "HFRIFWI Index   0.9306         1.0000"
      ]
     },
     "execution_count": 18,
     "metadata": {},
     "output_type": "execute_result"
    }
   ],
   "source": [
    "(pd.DataFrame(\n",
    "    [oos_fitted, df_merrill_facs.loc['01-2015':,'HFRIFWI Index']])\n",
    "    ).T.corr()"
   ]
  },
  {
   "cell_type": "code",
   "execution_count": null,
   "metadata": {},
   "outputs": [],
   "source": []
  }
 ],
 "metadata": {
  "kernelspec": {
   "display_name": "Python 3",
   "language": "python",
   "name": "python3"
  },
  "language_info": {
   "codemirror_mode": {
    "name": "ipython",
    "version": 3
   },
   "file_extension": ".py",
   "mimetype": "text/x-python",
   "name": "python",
   "nbconvert_exporter": "python",
   "pygments_lexer": "ipython3",
   "version": "3.6.6"
  }
 },
 "nbformat": 4,
 "nbformat_minor": 2
}
